{
 "cells": [
  {
   "cell_type": "markdown",
   "id": "177582ad",
   "metadata": {},
   "source": [
    "# Qiskit notebook"
   ]
  },
  {
   "cell_type": "code",
   "execution_count": 22,
   "id": "25340708",
   "metadata": {},
   "outputs": [
    {
     "data": {
      "text/html": [
       "<h3>Version Information</h3><table><tr><th>Qiskit Software</th><th>Version</th></tr><tr><td><code>qiskit-terra</code></td><td>0.24.0</td></tr><tr><td><code>qiskit-aer</code></td><td>0.12.0</td></tr><tr><td><code>qiskit-ibmq-provider</code></td><td>0.20.2</td></tr><tr><td><code>qiskit</code></td><td>0.43.0</td></tr><tr><th>System information</th></tr><tr><td>Python version</td><td>3.10.11</td></tr><tr><td>Python compiler</td><td>MSC v.1916 64 bit (AMD64)</td></tr><tr><td>Python build</td><td>main, Apr 20 2023 18:56:50</td></tr><tr><td>OS</td><td>Windows</td></tr><tr><td>CPUs</td><td>4</td></tr><tr><td>Memory (Gb)</td><td>15.77505874633789</td></tr><tr><td colspan='2'>Thu May 25 16:55:51 2023 Romance Daylight Time</td></tr></table>"
      ],
      "text/plain": [
       "<IPython.core.display.HTML object>"
      ]
     },
     "metadata": {},
     "output_type": "display_data"
    }
   ],
   "source": [
    "from qiskit import QuantumCircuit, Aer, transpile\n",
    "from qiskit.quantum_info import Statevector, Operator\n",
    "from qiskit.visualization import array_to_latex, plot_histogram\n",
    "from qiskit.extensions import HamiltonianGate\n",
    "import numpy as np\n",
    "import qiskit.tools.jupyter\n",
    "%qiskit_version_table"
   ]
  },
  {
   "cell_type": "markdown",
   "id": "8612bd93",
   "metadata": {},
   "source": [
    "# Circuits and measurements\n",
    "Create quantum states:"
   ]
  },
  {
   "cell_type": "code",
   "execution_count": 23,
   "id": "e1737115",
   "metadata": {},
   "outputs": [
    {
     "name": "stdout",
     "output_type": "stream",
     "text": [
      "\n",
      "Braket notation:\n"
     ]
    },
    {
     "data": {
      "text/latex": [
       "$$ |01\\rangle$$"
      ],
      "text/plain": [
       "<IPython.core.display.Latex object>"
      ]
     },
     "metadata": {},
     "output_type": "display_data"
    },
    {
     "name": "stdout",
     "output_type": "stream",
     "text": [
      "\n",
      "Vector notation:\n"
     ]
    },
    {
     "data": {
      "text/latex": [
       "$$\n",
       "\n",
       "\\begin{bmatrix}\n",
       "0 & 1 & 0 & 0  \\\\\n",
       " \\end{bmatrix}\n",
       "$$"
      ],
      "text/plain": [
       "<IPython.core.display.Latex object>"
      ]
     },
     "metadata": {},
     "output_type": "display_data"
    }
   ],
   "source": [
    "# number of qubits\n",
    "nq = 2\n",
    "\n",
    "# generate statevector\n",
    "psi = Statevector([0,1,0,0], 2**nq) # Statevector(vector, dimension = 2^(# qubits))\n",
    "print(\"\\nBraket notation:\")\n",
    "display(psi.draw('latex'))\n",
    "print(\"\\nVector notation:\")\n",
    "display(array_to_latex(psi))"
   ]
  },
  {
   "cell_type": "markdown",
   "id": "24d74ce1",
   "metadata": {},
   "source": [
    "Create circuit (no measurements):"
   ]
  },
  {
   "cell_type": "code",
   "execution_count": 24,
   "id": "01eaef7c",
   "metadata": {},
   "outputs": [
    {
     "name": "stdout",
     "output_type": "stream",
     "text": [
      "\n",
      "Visualize circuit:\n"
     ]
    },
    {
     "data": {
      "image/png": "[encoded data removed]",
      "text/plain": [
       "<PIL.Image.Image image mode=RGB size=219x59>"
      ]
     },
     "metadata": {},
     "output_type": "display_data"
    }
   ],
   "source": [
    "# measurement circuit\n",
    "circ = QuantumCircuit(nq) # quantum circuit on nq qubits\n",
    "circ.h(0) # Hadamard gate on qubit 0\n",
    "circ.h(1) # Hadamard gate on qubit 1\n",
    "circ.cp(np.pi/2,0,1) # phase gate on qubit 1, controlled on qubit 0\n",
    "print(\"\\nVisualize circuit:\")\n",
    "display(circ.draw('latex'))"
   ]
  },
  {
   "cell_type": "code",
   "execution_count": 25,
   "id": "3b6df55d",
   "metadata": {},
   "outputs": [
    {
     "name": "stdout",
     "output_type": "stream",
     "text": [
      "\n",
      "(Unitary) matrix representation:\n"
     ]
    },
    {
     "data": {
      "text/latex": [
       "$$\n",
       "\n",
       "\\begin{bmatrix}\n",
       "\\frac{1}{2} & \\frac{1}{2} & \\frac{1}{2} & \\frac{1}{2}  \\\\\n",
       " \\frac{1}{2} & - \\frac{1}{2} & \\frac{1}{2} & - \\frac{1}{2}  \\\\\n",
       " \\frac{1}{2} & \\frac{1}{2} & - \\frac{1}{2} & - \\frac{1}{2}  \\\\\n",
       " \\frac{i}{2} & - \\frac{i}{2} & - \\frac{i}{2} & \\frac{i}{2}  \\\\\n",
       " \\end{bmatrix}\n",
       "$$"
      ],
      "text/plain": [
       "<IPython.core.display.Latex object>"
      ]
     },
     "execution_count": 25,
     "metadata": {},
     "output_type": "execute_result"
    }
   ],
   "source": [
    "U = Operator(circ) # turn quantum circuit into matrix\n",
    "print(\"\\n(Unitary) matrix representation:\")\n",
    "array_to_latex(U)"
   ]
  },
  {
   "cell_type": "code",
   "execution_count": 26,
   "id": "db2d439d",
   "metadata": {},
   "outputs": [
    {
     "name": "stdout",
     "output_type": "stream",
     "text": [
      "\n",
      " output:\n"
     ]
    },
    {
     "data": {
      "text/latex": [
       "$$\\frac{1}{2} |00\\rangle- \\frac{1}{2} |01\\rangle+\\frac{1}{2} |10\\rangle- \\frac{i}{2} |11\\rangle$$"
      ],
      "text/plain": [
       "<IPython.core.display.Latex object>"
      ]
     },
     "execution_count": 26,
     "metadata": {},
     "output_type": "execute_result"
    }
   ],
   "source": [
    "state = psi.evolve(circ) # apply quantum circuit \"circ\" to state \"psi\"\n",
    "print(\"\\n output:\")\n",
    "state.draw('latex')"
   ]
  },
  {
   "cell_type": "markdown",
   "id": "7855fdfb",
   "metadata": {},
   "source": [
    "## Simulate circuit\n",
    "Prepend initialization:"
   ]
  },
  {
   "cell_type": "code",
   "execution_count": 27,
   "id": "caf2c6cd",
   "metadata": {
    "scrolled": true
   },
   "outputs": [
    {
     "name": "stdout",
     "output_type": "stream",
     "text": [
      "\n",
      "Visualize circuit with measurements and initialization:\n"
     ]
    },
    {
     "data": {
      "image/png": "[encoded data removed]",
      "text/plain": [
       "<PIL.Image.Image image mode=RGB size=377x61>"
      ]
     },
     "metadata": {},
     "output_type": "display_data"
    }
   ],
   "source": [
    "init = QuantumCircuit(nq)\n",
    "init.initialize(psi) # hardcode initial state \"psi\" into circuit \"init\"\n",
    "circ2 = circ.compose(init, range(nq), front=True) # compose the circuits \"init\" and \"circ\"\n",
    "print(\"\\nVisualize circuit with measurements and initialization:\")\n",
    "display(circ2.draw('latex'))"
   ]
  },
  {
   "cell_type": "markdown",
   "id": "49a084fe",
   "metadata": {},
   "source": [
    "Add measurements:"
   ]
  },
  {
   "cell_type": "code",
   "execution_count": 29,
   "id": "7db9c817",
   "metadata": {},
   "outputs": [
    {
     "name": "stdout",
     "output_type": "stream",
     "text": [
      "\n",
      "Visualize circuit with measurements:\n"
     ]
    },
    {
     "data": {
      "image/png": "[encoded data removed]",
      "text/plain": [
       "<PIL.Image.Image image mode=RGB size=514x105>"
      ]
     },
     "execution_count": 29,
     "metadata": {},
     "output_type": "execute_result"
    }
   ],
   "source": [
    "meas = QuantumCircuit(nq, nq) # measurement circuit on nq qubits and nq \"readout\" classical bits\n",
    "meas.barrier(range(nq)) # visual dashed line\n",
    "meas.measure(range(nq), range(nq)) # measure qubits 0 and 1, write output in classical bits 0 and 1 (resp.)\n",
    "circ3 = circ2.compose(meas, range(nq)) # compose with previous circuit\n",
    "\n",
    "print(\"\\nVisualize circuit with measurements:\")\n",
    "circ3.draw('latex')"
   ]
  },
  {
   "cell_type": "markdown",
   "id": "a05800ad",
   "metadata": {},
   "source": [
    "Compile and run the circuit:"
   ]
  },
  {
   "cell_type": "code",
   "execution_count": 9,
   "id": "a5cd5961",
   "metadata": {},
   "outputs": [
    {
     "data": {
      "image/png": "[encoded data removed]",
      "text/plain": [
       "<PIL.Image.Image image mode=RGB size=514x105>"
      ]
     },
     "metadata": {},
     "output_type": "display_data"
    },
    {
     "name": "stdout",
     "output_type": "stream",
     "text": [
      "\n",
      "Measurement counts (out of 1024): {'01': 253, '10': 259, '00': 247, '11': 265}\n"
     ]
    },
    {
     "data": {
      "image/png": "[encoded data removed]",
      "text/plain": [
       "<Figure size 700x500 with 1 Axes>"
      ]
     },
     "execution_count": 9,
     "metadata": {},
     "output_type": "execute_result"
    }
   ],
   "source": [
    "# transpile for simulator\n",
    "simulator = Aer.get_backend('aer_simulator') # aer_simulator is a classical simulator for quantum circuits\n",
    "circ3 = transpile(circ3, simulator) # transpile circuit in simulator language\n",
    "display(circ3.draw('latex'))\n",
    "\n",
    "# simulate circuit and get data\n",
    "result = simulator.run(circ3).result()\n",
    "counts = result.get_counts()\n",
    "print(\"\\nMeasurement counts (out of 1024):\",counts)\n",
    "plot_histogram(counts)"
   ]
  },
  {
   "cell_type": "markdown",
   "id": "686d2b98",
   "metadata": {},
   "source": [
    "## Exercises on circuits\n",
    "\n",
    " - what is the outcome of the following circuits?\n",
    "<div>\n",
    "<img src=\"https://simonapers.github.io/mckinsey/qiskit%20figures/ex1.png\" width=\"300\">\n",
    "<img src=\"https://simonapers.github.io/mckinsey/qiskit%20figures/ex2.png\" width=\"400\"/>\n",
    "<img src=\"https://simonapers.github.io/mckinsey/qiskit%20figures/ex3.png\" width=\"400\"/>\n",
    "<img src=\"https://simonapers.github.io/mckinsey/qiskit%20figures/ex4.png\" width=\"500\"/>\n",
    "</div>"
   ]
  },
  {
   "cell_type": "code",
   "execution_count": null,
   "id": "57367dfa",
   "metadata": {},
   "outputs": [],
   "source": []
  },
  {
   "cell_type": "markdown",
   "id": "118fc697",
   "metadata": {},
   "source": [
    " - fill in:\n",
    "<div>\n",
    "<img src=\"https://simonapers.github.io/mckinsey/qiskit%20figures/CNOT.png\" width=\"500\"/>\n",
    "</div>"
   ]
  },
  {
   "cell_type": "code",
   "execution_count": null,
   "id": "c06ffedd",
   "metadata": {},
   "outputs": [],
   "source": []
  },
  {
   "cell_type": "markdown",
   "id": "0a974826",
   "metadata": {},
   "source": [
    " - what is the outcome of the following circuits?\n",
    "<div>\n",
    "<img src=\"https://simonapers.github.io/mckinsey/qiskit%20figures/ex5.png\" width=\"200\"/>\n",
    "<img src=\"https://simonapers.github.io/mckinsey/qiskit%20figures/ex6.png\" width=\"300\"/>\n",
    "</div>"
   ]
  },
  {
   "cell_type": "code",
   "execution_count": null,
   "id": "69b608c0",
   "metadata": {},
   "outputs": [],
   "source": []
  },
  {
   "cell_type": "markdown",
   "id": "6284bebb",
   "metadata": {},
   "source": [
    "## QFT exercise\n",
    "verify circuit for 2-qubit quantum Fourier transform:\n",
    "<div>\n",
    "<img src=\"https://simonapers.github.io/mckinsey/qiskit%20figures/F4.png\" width=\"400\">\n",
    "</div>"
   ]
  },
  {
   "cell_type": "code",
   "execution_count": 11,
   "id": "2a5861df",
   "metadata": {},
   "outputs": [
    {
     "data": {
      "image/png": "[encoded data removed]",
      "text/plain": [
       "<PIL.Image.Image image mode=RGB size=267x59>"
      ]
     },
     "execution_count": 11,
     "metadata": {},
     "output_type": "execute_result"
    }
   ],
   "source": [
    "QFT = QuantumCircuit(2)\n",
    "QFT.h(0) # hadamard on q1\n",
    "QFT.cp(np.pi/2,0,1) # pi/2-rotation of q2 controlled on q1\n",
    "QFT.h(1) # hadamard on q1\n",
    "# QFT.swap(0,1) # swap on q1 and q2\n",
    "QFT.draw(output='latex')"
   ]
  },
  {
   "cell_type": "markdown",
   "id": "b0d5e4f6",
   "metadata": {},
   "source": [
    "matrix representation: (note qiskit orders tensor products q1 \\otimes q0!)"
   ]
  },
  {
   "cell_type": "code",
   "execution_count": 13,
   "id": "c0d7132b",
   "metadata": {},
   "outputs": [
    {
     "name": "stdout",
     "output_type": "stream",
     "text": [
      "\n",
      "(Unitary) matrix representation:\n"
     ]
    },
    {
     "data": {
      "text/latex": [
       "$$\n",
       "\n",
       "\\begin{bmatrix}\n",
       "\\frac{1}{2} & \\frac{1}{2} & \\frac{1}{2} & \\frac{1}{2}  \\\\\n",
       " \\frac{1}{2} & - \\frac{1}{2} & \\frac{i}{2} & - \\frac{i}{2}  \\\\\n",
       " \\frac{1}{2} & \\frac{1}{2} & - \\frac{1}{2} & - \\frac{1}{2}  \\\\\n",
       " \\frac{1}{2} & - \\frac{1}{2} & - \\frac{i}{2} & \\frac{i}{2}  \\\\\n",
       " \\end{bmatrix}\n",
       "$$"
      ],
      "text/plain": [
       "<IPython.core.display.Latex object>"
      ]
     },
     "execution_count": 13,
     "metadata": {},
     "output_type": "execute_result"
    }
   ],
   "source": [
    "U = Operator(QFT)\n",
    "print(\"\\n(Unitary) matrix representation:\")\n",
    "array_to_latex(U)"
   ]
  },
  {
   "cell_type": "markdown",
   "id": "de759835",
   "metadata": {},
   "source": [
    "# Hamiltonian simulation\n",
    "\n",
    "Qiskit has functionality for Hamiltonian simulation:"
   ]
  },
  {
   "cell_type": "code",
   "execution_count": 32,
   "id": "b4fef70f",
   "metadata": {},
   "outputs": [
    {
     "data": {
      "image/png": "[encoded data removed]",
      "text/plain": [
       "<PIL.Image.Image image mode=RGB size=219x28>"
      ]
     },
     "execution_count": 32,
     "metadata": {},
     "output_type": "execute_result"
    }
   ],
   "source": [
    "HamSim = QuantumCircuit(1)\n",
    "expH = HamiltonianGate([[0,1],[1,0]],1)\n",
    "HamSim = HamSim.compose(expH, [0])\n",
    "HamSim.draw('latex')"
   ]
  },
  {
   "cell_type": "markdown",
   "id": "9e2989b5",
   "metadata": {},
   "source": [
    "## Exercises Hamiltonian simulation\n",
    " - verify the following equations:\n",
    "<div>\n",
    "<img src=\"https://simonapers.github.io/mckinsey/qiskit%20figures/XHZH.png\" width=\"500\"/>\n",
    "<img src=\"https://simonapers.github.io/mckinsey/qiskit%20figures/expZ.png\" width=\"500\"/>\n",
    "<img src=\"https://simonapers.github.io/mckinsey/qiskit%20figures/expX.png\" width=\"500\"/>\n",
    "</div>"
   ]
  },
  {
   "cell_type": "code",
   "execution_count": null,
   "id": "65e37351",
   "metadata": {},
   "outputs": [],
   "source": []
  },
  {
   "cell_type": "markdown",
   "id": "ab5201e7",
   "metadata": {},
   "source": [
    " - verify noncommutativity: (e.g. for $H = H_1 + H_2 = X + Z$)\n",
    "<div>\n",
    "<img src=\"https://simonapers.github.io/mckinsey/qiskit%20figures/noncom.png\" width=\"400\">\n",
    "</div>"
   ]
  },
  {
   "cell_type": "code",
   "execution_count": null,
   "id": "bd2a1bd5",
   "metadata": {},
   "outputs": [],
   "source": []
  },
  {
   "cell_type": "markdown",
   "id": "4f7f141a",
   "metadata": {},
   "source": [
    " - verify Lie-Trotter formula:\n",
    "<div>\n",
    "<img src=\"https://simonapers.github.io/mckinsey/qiskit%20figures/Trotter.png\" width=\"600\">\n",
    "</div>"
   ]
  },
  {
   "cell_type": "code",
   "execution_count": null,
   "id": "1c29419a",
   "metadata": {},
   "outputs": [],
   "source": []
  },
  {
   "cell_type": "markdown",
   "id": "b0435350",
   "metadata": {},
   "source": [
    "# QAOA\n",
    "\n",
    "## Ising Hamiltonian\n",
    "Consider a graph $G=(V,E)$ and corresponding Ising Hamiltonian $H = -\\sum_{i<j:(i,j) \\in E} \\frac{I - Z_i Z_j}{2}$. Show that the ground state of $H$ describes a maximum cut in $G$."
   ]
  },
  {
   "cell_type": "markdown",
   "id": "9d782d4d",
   "metadata": {},
   "source": [
    "Now consider the particular graph $G$ with adjacency matrix\n",
    "$$\n",
    "\\begin{bmatrix}\n",
    "0 & 1 & 1 & 1 \\\\\n",
    "1 & 0 & 1 & 1 \\\\\n",
    "1 & 1 & 0 & 0 \\\\\n",
    "1 & 1 & 0 & 0\n",
    "\\end{bmatrix}.\n",
    "$$\n",
    "Encode the corresponding Ising Hamiltonian."
   ]
  },
  {
   "cell_type": "code",
   "execution_count": 15,
   "id": "14aa124a",
   "metadata": {},
   "outputs": [
    {
     "data": {
      "text/latex": [
       "$$\n",
       "\n",
       "\\begin{bmatrix}\n",
       "0 & 0 & 0 & 0 & \\cdots & 0 & 0 & 0  \\\\\n",
       " 0 & -3 & 0 & 0 & \\cdots & 0 & 0 & 0  \\\\\n",
       " 0 & 0 & -3 & 0 & \\cdots & 0 & 0 & 0  \\\\\n",
       " 0 & 0 & 0 & -4 & \\cdots & 0 & 0 & 0  \\\\\n",
       " \\vdots & \\vdots & \\vdots & \\vdots & \\ddots & \\vdots & \\vdots & \\vdots \\\\\n",
       " 0 & 0 & 0 & 0 & \\cdots & -3 & 0 & 0  \\\\\n",
       " 0 & 0 & 0 & 0 & \\cdots & 0 & -3 & 0  \\\\\n",
       " 0 & 0 & 0 & 0 & \\cdots & 0 & 0 & 0  \\\\\n",
       " \\end{bmatrix}\n",
       "$$"
      ],
      "text/plain": [
       "<IPython.core.display.Latex object>"
      ]
     },
     "metadata": {},
     "output_type": "display_data"
    },
    {
     "data": {
      "text/latex": [
       "$$\n",
       "\n",
       "\\begin{bmatrix}\n",
       "1 & 0 & 0 & 0 & \\cdots & 0 & 0 & 0  \\\\\n",
       " 0 & -0.9899924966 + 0.1411200081 i & 0 & 0 & \\cdots & 0 & 0 & 0  \\\\\n",
       " 0 & 0 & -0.9899924966 + 0.1411200081 i & 0 & \\cdots & 0 & 0 & 0  \\\\\n",
       " 0 & 0 & 0 & -0.6536436209 - 0.7568024953 i & \\cdots & 0 & 0 & 0  \\\\\n",
       " \\vdots & \\vdots & \\vdots & \\vdots & \\ddots & \\vdots & \\vdots & \\vdots \\\\\n",
       " 0 & 0 & 0 & 0 & \\cdots & -0.9899924966 + 0.1411200081 i & 0 & 0  \\\\\n",
       " 0 & 0 & 0 & 0 & \\cdots & 0 & -0.9899924966 + 0.1411200081 i & 0  \\\\\n",
       " 0 & 0 & 0 & 0 & \\cdots & 0 & 0 & 1  \\\\\n",
       " \\end{bmatrix}\n",
       "$$"
      ],
      "text/plain": [
       "<IPython.core.display.Latex object>"
      ]
     },
     "metadata": {},
     "output_type": "display_data"
    },
    {
     "data": {
      "image/png": "[encoded data removed]",
      "text/plain": [
       "<PIL.Image.Image image mode=RGB size=236x145>"
      ]
     },
     "execution_count": 15,
     "metadata": {},
     "output_type": "execute_result"
    }
   ],
   "source": [
    "from qiskit.quantum_info import Pauli\n",
    "I = Pauli('IIII').to_matrix()\n",
    "E12 = Pauli('IIZZ').to_matrix() # inverse ordering\n",
    "E13 = Pauli('IZIZ').to_matrix()\n",
    "E14 = Pauli('ZIIZ').to_matrix()\n",
    "E23 = Pauli('IZZI').to_matrix()\n",
    "E24 = Pauli('ZIZI').to_matrix()\n",
    "H = - (I-E12)/2 - (I-E13)/2 - (I-E14)/2 - (I-E23)/2 - (I-E24)/2\n",
    "display(array_to_latex(H))\n",
    "expH = HamiltonianGate(H,1)\n",
    "circH = QuantumCircuit(4)\n",
    "circH = circH.compose(expH)\n",
    "display(array_to_latex(Operator(circH)))\n",
    "circH.draw('latex')"
   ]
  },
  {
   "cell_type": "code",
   "execution_count": 16,
   "id": "d80c3335",
   "metadata": {},
   "outputs": [
    {
     "data": {
      "text/latex": [
       "$$ |0001\\rangle$$"
      ],
      "text/plain": [
       "<IPython.core.display.Latex object>"
      ]
     },
     "metadata": {},
     "output_type": "display_data"
    },
    {
     "data": {
      "text/latex": [
       "$$(-0.9899924966 + 0.1411200081 i) |0001\\rangle$$"
      ],
      "text/plain": [
       "<IPython.core.display.Latex object>"
      ]
     },
     "metadata": {},
     "output_type": "display_data"
    }
   ],
   "source": [
    "psi_in = Statevector.from_int(1, 2**4)\n",
    "display(psi_in.draw('latex'))\n",
    "psi_out = psi_in.evolve(circH)\n",
    "display(psi_out.draw('latex'))"
   ]
  },
  {
   "cell_type": "markdown",
   "id": "ba90855d",
   "metadata": {},
   "source": [
    "### Variational circuit"
   ]
  },
  {
   "cell_type": "code",
   "execution_count": 17,
   "id": "18001ba1",
   "metadata": {},
   "outputs": [],
   "source": [
    "from qiskit.circuit import Parameter\n",
    "\n",
    "theta = Parameter('theta')\n",
    "expHz = HamiltonianGate(H,theta)\n",
    "circHz = QuantumCircuit(4, name='Hz')\n",
    "circHz = circHz.compose(expHz)\n",
    "# display(circHz.draw('latex'))\n",
    "# display(array_to_latex(Operator(circHz)))"
   ]
  },
  {
   "cell_type": "code",
   "execution_count": 18,
   "id": "f7f06186",
   "metadata": {},
   "outputs": [],
   "source": [
    "# mixer Hamiltonian\n",
    "X1 = Pauli('IIIX').to_matrix()\n",
    "X2 = Pauli('IIXI').to_matrix()\n",
    "X3 = Pauli('IXII').to_matrix()\n",
    "X4 = Pauli('XIII').to_matrix()\n",
    "H2 = X1 + X2 + X3 + X4\n",
    "\n",
    "phi = Parameter('phi')\n",
    "expHx = HamiltonianGate(H2,phi)\n",
    "circHx = QuantumCircuit(4, name='Hx')\n",
    "circHx = circHx.compose(expHx)\n",
    "# display(array_to_latex(Operator(circHx)))\n",
    "# display(circHx.draw('latex'))\n",
    "# circHx = circHx.compose(expHz)\n",
    "# # circHx.compose()\n",
    "# # circHx.compose(circHz, [0,3])\n",
    "# display(array_to_latex(Operator(circHx)))\n",
    "# circHx.draw('latex')"
   ]
  },
  {
   "cell_type": "code",
   "execution_count": 19,
   "id": "2142cbcf",
   "metadata": {},
   "outputs": [
    {
     "data": {
      "image/png": "[encoded data removed]",
      "text/plain": [
       "<PIL.Image.Image image mode=RGB size=510x145>"
      ]
     },
     "metadata": {},
     "output_type": "display_data"
    },
    {
     "data": {
      "image/png": "[encoded data removed]",
      "text/plain": [
       "<PIL.Image.Image image mode=RGB size=763x237>"
      ]
     },
     "metadata": {},
     "output_type": "display_data"
    }
   ],
   "source": [
    "# compose layers\n",
    "\n",
    "t1 = Parameter('t1')\n",
    "t2 = Parameter('t2')\n",
    "p1 = Parameter('p1')\n",
    "p2 = Parameter('p2')\n",
    "\n",
    "QAOA = QuantumCircuit(4)\n",
    "QAOA = QAOA.compose(circHx.to_instruction({phi: p1}))\n",
    "QAOA = QAOA.compose(circHz.to_instruction({theta: t1}))\n",
    "QAOA = QAOA.compose(circHx.to_instruction({phi: p2}))\n",
    "QAOA = QAOA.compose(circHz.to_instruction({theta: t2}))\n",
    "display(QAOA.draw('latex'))\n",
    "\n",
    "# append measurement circuit\n",
    "meas = QuantumCircuit(4, 4)\n",
    "meas.barrier(range(4))\n",
    "meas.measure(range(4), range(4))\n",
    "QAOA = QAOA.compose(meas)\n",
    "display(QAOA.draw('latex'))"
   ]
  },
  {
   "cell_type": "code",
   "execution_count": 20,
   "id": "b5ae655e",
   "metadata": {},
   "outputs": [
    {
     "data": {
      "image/png": "[encoded data removed]",
      "text/plain": [
       "<Figure size 700x500 with 1 Axes>"
      ]
     },
     "execution_count": 20,
     "metadata": {},
     "output_type": "execute_result"
    }
   ],
   "source": [
    "circ = QAOA.bind_parameters(\n",
    "        {t1: 1/5*np.pi, t2: 0, p1: 1/4*np.pi, p2: 0.6*np.pi})\n",
    "\n",
    "backend = Aer.get_backend('aer_simulator')\n",
    "job = backend.run(transpile(circ, backend), shots=10000)\n",
    "counts = job.result().get_counts()\n",
    "plot_histogram(counts)"
   ]
  },
  {
   "cell_type": "markdown",
   "id": "028fc69f",
   "metadata": {},
   "source": [
    "Extra:\n",
    " - QAOA on larger depth, more vertices, combine with optimizer (see for instance notebook by Ruslan Shaydulin: https://github.com/rsln-s/QAOA_tutorial/blob/main/Hands-on.ipynb)\n",
    " - "
   ]
  },
  {
   "cell_type": "code",
   "execution_count": null,
   "id": "8e1953df",
   "metadata": {},
   "outputs": [],
   "source": []
  }
 ],
 "metadata": {
  "kernelspec": {
   "display_name": "Python 3 (ipykernel)",
   "language": "python",
   "name": "python3"
  },
  "language_info": {
   "codemirror_mode": {
    "name": "ipython",
    "version": 3
   },
   "file_extension": ".py",
   "mimetype": "text/x-python",
   "name": "python",
   "nbconvert_exporter": "python",
   "pygments_lexer": "ipython3",
   "version": "3.10.11"
  }
 },
 "nbformat": 4,
 "nbformat_minor": 5
}
