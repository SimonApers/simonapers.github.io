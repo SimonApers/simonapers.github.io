{
 "cells": [
  {
   "cell_type": "markdown",
   "metadata": {
    "slideshow": {
     "slide_type": "-"
    }
   },
   "source": [
    "# QAOA tutorial (Ruslan Shaydulin)\n",
    "\n",
    "Jupyter Notebook slightly adapted from https://github.com/rsln-s/QAOA_tutorial/blob/main/Hands-on.ipynb\n",
    "\n",
    "before starting: close jupyter notebook and run \"pip install networkx\" in conda prompt (inside qiskit virtual environment)"
   ]
  },
  {
   "cell_type": "code",
   "execution_count": 11,
   "metadata": {
    "scrolled": false
   },
   "outputs": [
    {
     "data": {
      "text/plain": [
       "{'qiskit-terra': '0.24.0', 'qiskit-aer': '0.12.0', 'qiskit-ignis': None, 'qiskit-ibmq-provider': '0.20.2', 'qiskit': '0.43.0', 'qiskit-nature': None, 'qiskit-finance': None, 'qiskit-optimization': None, 'qiskit-machine-learning': None}"
      ]
     },
     "execution_count": 11,
     "metadata": {},
     "output_type": "execute_result"
    }
   ],
   "source": [
    "import qiskit\n",
    "qiskit.__qiskit_version__"
   ]
  },
  {
   "cell_type": "markdown",
   "metadata": {
    "slideshow": {
     "slide_type": "slide"
    }
   },
   "source": [
    "### Let's solve MAXCUT on a simple graph\n",
    "\n",
    "Recall the MAXCUT objective is $\\max_{\\mathbb{s}}\\frac{1}{2}\\sum_{ij\\in E}(1-s_is_j)$\n",
    "\n",
    "Before going further, let's reformulate it:\n",
    "\n",
    "$\\frac{1}{2}\\sum_{ij\\in E}(1-s_is_j) = \\frac{1}{2}\\sum_{ij\\in E}(-s_is_j) + const$\n",
    "\n",
    "Therefore the above _maximization_ problem is equivalent to the problem below:\n",
    "\n",
    "$\\max_{\\mathbb{s}}\\sum_{ij\\in E}(-s_is_j)$"
   ]
  },
  {
   "cell_type": "markdown",
   "metadata": {
    "slideshow": {
     "slide_type": "slide"
    }
   },
   "source": [
    "### Constructing the Hamiltonian\n",
    "\n",
    "MAXCUT is equivalent to the problem below:\n",
    "\n",
    "$\\max_{\\mathbb{s}}\\sum_{ij\\in E}(-s_is_j)$\n",
    "\n",
    "We've seen earlier that the Hamiltonian can be constructed by mapping binary variables $s_i$ onto the eigenvalues of $Z$. For the above maximization problem has the following Hamiltonian:\n",
    "\n",
    "$\\sum_{ij\\in E}(-Z_iZ_j)$"
   ]
  },
  {
   "cell_type": "markdown",
   "metadata": {
    "slideshow": {
     "slide_type": "slide"
    }
   },
   "source": [
    "### Constructing QAOA circuit\n",
    "\n",
    "Cost Hamiltonian: $C = \\sum_{ij\\in E}(-Z_iZ_j)$\n",
    "\n",
    "The full QAOA circuit:\n",
    "\n",
    "$|\\psi{(\\mathbb{\\beta},\\mathbb{\\gamma})}> =  e^{-i\\beta_p B}e^{-i\\gamma_p C}\\cdots e^{-i\\beta_1 B}e^{-i\\gamma_1 C} H^{\\otimes n} |0>$\n",
    "\n",
    "Need to implement cost operator $e^{-i\\gamma_p C}$ and mixer operator $e^{-i\\beta_p B}$"
   ]
  },
  {
   "cell_type": "markdown",
   "metadata": {
    "slideshow": {
     "slide_type": "slide"
    }
   },
   "source": [
    "### Let's beging by importing everything we'll need later"
   ]
  },
  {
   "cell_type": "code",
   "execution_count": 3,
   "metadata": {
    "slideshow": {
     "slide_type": "-"
    }
   },
   "outputs": [],
   "source": [
    "import numpy as np\n",
    "import networkx as nx\n",
    "import matplotlib.pyplot as plt\n",
    "from collections import defaultdict\n",
    "from operator import itemgetter\n",
    "from scipy.optimize import minimize\n",
    "from qiskit import QuantumCircuit, QuantumRegister, ClassicalRegister, execute, Aer"
   ]
  },
  {
   "cell_type": "markdown",
   "metadata": {
    "slideshow": {
     "slide_type": "slide"
    }
   },
   "source": [
    "### Consider the following graph"
   ]
  },
  {
   "cell_type": "code",
   "execution_count": 4,
   "metadata": {},
   "outputs": [
    {
     "data": {
      "image/png": "[encoded data removed]",
      "text/plain": [
       "<Figure size 640x480 with 1 Axes>"
      ]
     },
     "metadata": {},
     "output_type": "display_data"
    }
   ],
   "source": [
    "G = nx.Graph()\n",
    "G.add_edges_from([[0,3],[0,4],[1,3],[1,4],[2,3],[2,4]])\n",
    "nx.draw(G, pos=nx.bipartite_layout(G, [0,1,2]))"
   ]
  },
  {
   "cell_type": "markdown",
   "metadata": {
    "slideshow": {
     "slide_type": "slide"
    }
   },
   "source": [
    "### We can now build the circuit for cost operator\n",
    "\n",
    "Cost operator $ e^{-i\\gamma_p C} = e^{-i\\gamma_p \\sum_{ij\\in E}(-Z_iZ_j)}$\n",
    "\n",
    "Note that later we will see how to do this more efficiently in Qiskit"
   ]
  },
  {
   "cell_type": "code",
   "execution_count": 14,
   "metadata": {
    "slideshow": {
     "slide_type": "-"
    }
   },
   "outputs": [],
   "source": [
    "def append_zz_term(qc, q1, q2, gamma):\n",
    "    qc.cx(q1,q2)\n",
    "    qc.rz(2*gamma, q2)\n",
    "    qc.cx(q1,q2)\n",
    "\n",
    "def get_cost_operator_circuit(G, gamma):\n",
    "    N = G.number_of_nodes()\n",
    "    qc = QuantumCircuit(N,N)\n",
    "    for i, j in G.edges():\n",
    "        append_zz_term(qc, i, j, gamma)\n",
    "    return qc\n",
    "    "
   ]
  },
  {
   "cell_type": "markdown",
   "metadata": {
    "slideshow": {
     "slide_type": "slide"
    }
   },
   "source": [
    "### Let's verify that our function produces the correct circuit\n",
    "\n",
    "Cost operator $e^{-i\\gamma_p C} = e^{-i\\gamma_p \\sum_{ij\\in E}(-Z_iZ_j)}$"
   ]
  },
  {
   "cell_type": "code",
   "execution_count": 15,
   "metadata": {},
   "outputs": [
    {
     "data": {
      "text/html": [
       "<pre style=\"word-wrap: normal;white-space: pre;background: #fff0;line-height: 1.1;font-family: &quot;Courier New&quot;,Courier,monospace\">                                                                            »\n",
       "q_0: ──■────────────────■────■────────────────────────────■─────────────────»\n",
       "       │                │    │     ┌───┐    ┌──────────┐  │  ┌───┐     ┌───┐»\n",
       "q_1: ──┼────────────────┼────┼─────┤ X ├────┤ Rz(2π/3) ├──┼──┤ X ├─────┤ X ├»\n",
       "       │                │    │     └─┬─┘    └──────────┘  │  └─┬─┘┌───┐└─┬─┘»\n",
       "q_2: ──┼────────────────┼────┼───────┼────────────────────┼────┼──┤ X ├──┼──»\n",
       "     ┌─┴─┐┌──────────┐┌─┴─┐  │       │                    │    │  └─┬─┘  │  »\n",
       "q_3: ┤ X ├┤ Rz(2π/3) ├┤ X ├──┼───────■────────────────────┼────■────■────┼──»\n",
       "     └───┘└──────────┘└───┘┌─┴─┐┌──────────┐            ┌─┴─┐            │  »\n",
       "q_4: ──────────────────────┤ X ├┤ Rz(2π/3) ├────────────┤ X ├────────────■──»\n",
       "                           └───┘└──────────┘            └───┘               »\n",
       "c: 5/═══════════════════════════════════════════════════════════════════════»\n",
       "                                                                            »\n",
       "«                                                 \n",
       "«q_0: ────────────────────────────────────────────\n",
       "«     ┌──────────┐     ┌───┐                      \n",
       "«q_1: ┤ Rz(2π/3) ├─────┤ X ├──────────────────────\n",
       "«     ├──────────┤┌───┐└─┬─┘┌───┐┌──────────┐┌───┐\n",
       "«q_2: ┤ Rz(2π/3) ├┤ X ├──┼──┤ X ├┤ Rz(2π/3) ├┤ X ├\n",
       "«     └──────────┘└─┬─┘  │  └─┬─┘└──────────┘└─┬─┘\n",
       "«q_3: ──────────────■────┼────┼────────────────┼──\n",
       "«                        │    │                │  \n",
       "«q_4: ───────────────────■────■────────────────■──\n",
       "«                                                 \n",
       "«c: 5/════════════════════════════════════════════\n",
       "«                                                 </pre>"
      ],
      "text/plain": [
       "                                                                            »\n",
       "q_0: ──■────────────────■────■────────────────────────────■─────────────────»\n",
       "       │                │    │     ┌───┐    ┌──────────┐  │  ┌───┐     ┌───┐»\n",
       "q_1: ──┼────────────────┼────┼─────┤ X ├────┤ Rz(2π/3) ├──┼──┤ X ├─────┤ X ├»\n",
       "       │                │    │     └─┬─┘    └──────────┘  │  └─┬─┘┌───┐└─┬─┘»\n",
       "q_2: ──┼────────────────┼────┼───────┼────────────────────┼────┼──┤ X ├──┼──»\n",
       "     ┌─┴─┐┌──────────┐┌─┴─┐  │       │                    │    │  └─┬─┘  │  »\n",
       "q_3: ┤ X ├┤ Rz(2π/3) ├┤ X ├──┼───────■────────────────────┼────■────■────┼──»\n",
       "     └───┘└──────────┘└───┘┌─┴─┐┌──────────┐            ┌─┴─┐            │  »\n",
       "q_4: ──────────────────────┤ X ├┤ Rz(2π/3) ├────────────┤ X ├────────────■──»\n",
       "                           └───┘└──────────┘            └───┘               »\n",
       "c: 5/═══════════════════════════════════════════════════════════════════════»\n",
       "                                                                            »\n",
       "«                                                 \n",
       "«q_0: ────────────────────────────────────────────\n",
       "«     ┌──────────┐     ┌───┐                      \n",
       "«q_1: ┤ Rz(2π/3) ├─────┤ X ├──────────────────────\n",
       "«     ├──────────┤┌───┐└─┬─┘┌───┐┌──────────┐┌───┐\n",
       "«q_2: ┤ Rz(2π/3) ├┤ X ├──┼──┤ X ├┤ Rz(2π/3) ├┤ X ├\n",
       "«     └──────────┘└─┬─┘  │  └─┬─┘└──────────┘└─┬─┘\n",
       "«q_3: ──────────────■────┼────┼────────────────┼──\n",
       "«                        │    │                │  \n",
       "«q_4: ───────────────────■────■────────────────■──\n",
       "«                                                 \n",
       "«c: 5/════════════════════════════════════════════\n",
       "«                                                 "
      ]
     },
     "execution_count": 15,
     "metadata": {},
     "output_type": "execute_result"
    }
   ],
   "source": [
    "qc = get_cost_operator_circuit(G, np.pi / 3)\n",
    "qc.draw()"
   ]
  },
  {
   "cell_type": "markdown",
   "metadata": {
    "slideshow": {
     "slide_type": "slide"
    }
   },
   "source": [
    "### Now we need to build mixer operator\n",
    "\n",
    "Mixer operator: $e^{-i\\beta_p B} = e^{-i\\beta_p \\sum_{i\\in V}X_i} = e^{-i\\beta_p X_0}e^{-i\\beta_p X_1}e^{-i\\beta_p X_2}e^{-i\\beta_p X_3}$"
   ]
  },
  {
   "cell_type": "code",
   "execution_count": 16,
   "metadata": {
    "slideshow": {
     "slide_type": "fragment"
    }
   },
   "outputs": [],
   "source": [
    "def append_x_term(qc, q1, beta):\n",
    "    qc.rx(2*beta, q1)\n",
    "\n",
    "def get_mixer_operator_circuit(G, beta):\n",
    "    N = G.number_of_nodes()\n",
    "    qc = QuantumCircuit(N,N)\n",
    "    for n in G.nodes():\n",
    "        append_x_term(qc, n, beta)\n",
    "    return qc\n"
   ]
  },
  {
   "cell_type": "markdown",
   "metadata": {
    "slideshow": {
     "slide_type": "slide"
    }
   },
   "source": [
    "### Let's verify the circuit\n",
    "\n",
    "Mixer operator: $e^{-i\\beta_p B} = e^{-i\\beta_p \\sum_{i\\in V}X_i} = e^{-i\\beta_p X_0}e^{-i\\beta_p X_1}e^{-i\\beta_p X_2}e^{-i\\beta_p X_3}e^{-i\\beta_p X_4}$"
   ]
  },
  {
   "cell_type": "code",
   "execution_count": 17,
   "metadata": {},
   "outputs": [
    {
     "data": {
      "text/html": [
       "<pre style=\"word-wrap: normal;white-space: pre;background: #fff0;line-height: 1.1;font-family: &quot;Courier New&quot;,Courier,monospace\">     ┌──────────┐\n",
       "q_0: ┤ Rx(2π/3) ├\n",
       "     ├──────────┤\n",
       "q_1: ┤ Rx(2π/3) ├\n",
       "     ├──────────┤\n",
       "q_2: ┤ Rx(2π/3) ├\n",
       "     ├──────────┤\n",
       "q_3: ┤ Rx(2π/3) ├\n",
       "     ├──────────┤\n",
       "q_4: ┤ Rx(2π/3) ├\n",
       "     └──────────┘\n",
       "c: 5/════════════\n",
       "                 </pre>"
      ],
      "text/plain": [
       "     ┌──────────┐\n",
       "q_0: ┤ Rx(2π/3) ├\n",
       "     ├──────────┤\n",
       "q_1: ┤ Rx(2π/3) ├\n",
       "     ├──────────┤\n",
       "q_2: ┤ Rx(2π/3) ├\n",
       "     ├──────────┤\n",
       "q_3: ┤ Rx(2π/3) ├\n",
       "     ├──────────┤\n",
       "q_4: ┤ Rx(2π/3) ├\n",
       "     └──────────┘\n",
       "c: 5/════════════\n",
       "                 "
      ]
     },
     "execution_count": 17,
     "metadata": {},
     "output_type": "execute_result"
    }
   ],
   "source": [
    "qc = get_mixer_operator_circuit(G, np.pi/3)\n",
    "qc.draw()"
   ]
  },
  {
   "cell_type": "markdown",
   "metadata": {
    "slideshow": {
     "slide_type": "slide"
    }
   },
   "source": [
    "### Now we are ready to build the full circuit\n",
    "\n",
    "$|\\psi{(\\mathbb{\\beta},\\mathbb{\\gamma})}> =  e^{-i\\beta_p B}e^{-i\\gamma_p C}\\cdots e^{-i\\beta_1 B}e^{-i\\gamma_1 C} H^{\\otimes n} |0>$"
   ]
  },
  {
   "cell_type": "code",
   "execution_count": 21,
   "metadata": {},
   "outputs": [],
   "source": [
    "def get_qaoa_circuit(G, beta, gamma):\n",
    "    assert(len(beta) == len(gamma))\n",
    "    p = len(beta) # infering number of QAOA steps from the parameters passed\n",
    "    N = G.number_of_nodes()\n",
    "    qc = QuantumCircuit(N,N)\n",
    "    # first, apply a layer of Hadamards\n",
    "    qc.h(range(N))\n",
    "    # second, apply p alternating operators\n",
    "    for i in range(p):\n",
    "        qc = qc.compose(get_cost_operator_circuit(G,gamma[i]))\n",
    "        qc = qc.compose(get_mixer_operator_circuit(G,beta[i]))\n",
    "#         qc += get_cost_operator_circuit(G,gamma[i])\n",
    "#         qc += get_mixer_operator_circuit(G,beta[i])\n",
    "    # finally, do not forget to measure the result!\n",
    "    qc.barrier(range(N))\n",
    "    qc.measure(range(N), range(N))\n",
    "    return qc"
   ]
  },
  {
   "cell_type": "markdown",
   "metadata": {
    "slideshow": {
     "slide_type": "slide"
    }
   },
   "source": [
    "### Let's verify that circuit looks right\n",
    "\n",
    "$|\\psi{(\\mathbb{\\beta},\\mathbb{\\gamma})}> =  e^{-i\\beta_p B}e^{-i\\gamma_p C}\\cdots e^{-i\\beta_1 B}e^{-i\\gamma_1 C} H^{\\otimes n} |0>$"
   ]
  },
  {
   "cell_type": "code",
   "execution_count": 22,
   "metadata": {},
   "outputs": [
    {
     "data": {
      "text/html": [
       "<pre style=\"word-wrap: normal;white-space: pre;background: #fff0;line-height: 1.1;font-family: &quot;Courier New&quot;,Courier,monospace\">     ┌───┐                                               ┌──────────┐          »\n",
       "q_0: ┤ H ├──■─────────────■────■──────────────────────■──┤ Rx(2π/3) ├──────────»\n",
       "     ├───┤  │             │    │    ┌───┐  ┌───────┐  │  └──┬───┬───┘     ┌───┐»\n",
       "q_1: ┤ H ├──┼─────────────┼────┼────┤ X ├──┤ Rz(π) ├──┼─────┤ X ├─────────┤ X ├»\n",
       "     ├───┤  │             │    │    └─┬─┘  └───────┘  │     └─┬─┘    ┌───┐└─┬─┘»\n",
       "q_2: ┤ H ├──┼─────────────┼────┼──────┼───────────────┼───────┼──────┤ X ├──┼──»\n",
       "     ├───┤┌─┴─┐┌───────┐┌─┴─┐  │      │               │       │      └─┬─┘  │  »\n",
       "q_3: ┤ H ├┤ X ├┤ Rz(π) ├┤ X ├──┼──────■───────────────┼───────■────────■────┼──»\n",
       "     ├───┤└───┘└───────┘└───┘┌─┴─┐┌───────┐         ┌─┴─┐                   │  »\n",
       "q_4: ┤ H ├───────────────────┤ X ├┤ Rz(π) ├─────────┤ X ├───────────────────■──»\n",
       "     └───┘                   └───┘└───────┘         └───┘                      »\n",
       "c: 5/══════════════════════════════════════════════════════════════════════════»\n",
       "                                                                               »\n",
       "«                                                                  ░ ┌─┐      »\n",
       "«q_0: ─────────────────────────────────────────────────────────────░─┤M├──────»\n",
       "«     ┌───────┐     ┌───┐┌──────────┐                              ░ └╥┘┌─┐   »\n",
       "«q_1: ┤ Rz(π) ├─────┤ X ├┤ Rx(2π/3) ├──────────────────────────────░──╫─┤M├───»\n",
       "«     ├───────┤┌───┐└─┬─┘└──┬───┬───┘ ┌───────┐  ┌───┐┌──────────┐ ░  ║ └╥┘┌─┐»\n",
       "«q_2: ┤ Rz(π) ├┤ X ├──┼─────┤ X ├─────┤ Rz(π) ├──┤ X ├┤ Rx(2π/3) ├─░──╫──╫─┤M├»\n",
       "«     └───────┘└─┬─┘  │     └─┬─┘    ┌┴───────┴─┐└─┬─┘└──────────┘ ░  ║  ║ └╥┘»\n",
       "«q_3: ───────────■────┼───────┼──────┤ Rx(2π/3) ├──┼───────────────░──╫──╫──╫─»\n",
       "«                     │       │      └──────────┘  │  ┌──────────┐ ░  ║  ║  ║ »\n",
       "«q_4: ────────────────■───────■────────────────────■──┤ Rx(2π/3) ├─░──╫──╫──╫─»\n",
       "«                                                     └──────────┘ ░  ║  ║  ║ »\n",
       "«c: 5/════════════════════════════════════════════════════════════════╩══╩══╩═»\n",
       "«                                                                     0  1  2 »\n",
       "«           \n",
       "«q_0: ──────\n",
       "«           \n",
       "«q_1: ──────\n",
       "«           \n",
       "«q_2: ──────\n",
       "«     ┌─┐   \n",
       "«q_3: ┤M├───\n",
       "«     └╥┘┌─┐\n",
       "«q_4: ─╫─┤M├\n",
       "«      ║ └╥┘\n",
       "«c: 5/═╩══╩═\n",
       "«      3  4 </pre>"
      ],
      "text/plain": [
       "     ┌───┐                                               ┌──────────┐          »\n",
       "q_0: ┤ H ├──■─────────────■────■──────────────────────■──┤ Rx(2π/3) ├──────────»\n",
       "     ├───┤  │             │    │    ┌───┐  ┌───────┐  │  └──┬───┬───┘     ┌───┐»\n",
       "q_1: ┤ H ├──┼─────────────┼────┼────┤ X ├──┤ Rz(π) ├──┼─────┤ X ├─────────┤ X ├»\n",
       "     ├───┤  │             │    │    └─┬─┘  └───────┘  │     └─┬─┘    ┌───┐└─┬─┘»\n",
       "q_2: ┤ H ├──┼─────────────┼────┼──────┼───────────────┼───────┼──────┤ X ├──┼──»\n",
       "     ├───┤┌─┴─┐┌───────┐┌─┴─┐  │      │               │       │      └─┬─┘  │  »\n",
       "q_3: ┤ H ├┤ X ├┤ Rz(π) ├┤ X ├──┼──────■───────────────┼───────■────────■────┼──»\n",
       "     ├───┤└───┘└───────┘└───┘┌─┴─┐┌───────┐         ┌─┴─┐                   │  »\n",
       "q_4: ┤ H ├───────────────────┤ X ├┤ Rz(π) ├─────────┤ X ├───────────────────■──»\n",
       "     └───┘                   └───┘└───────┘         └───┘                      »\n",
       "c: 5/══════════════════════════════════════════════════════════════════════════»\n",
       "                                                                               »\n",
       "«                                                                  ░ ┌─┐      »\n",
       "«q_0: ─────────────────────────────────────────────────────────────░─┤M├──────»\n",
       "«     ┌───────┐     ┌───┐┌──────────┐                              ░ └╥┘┌─┐   »\n",
       "«q_1: ┤ Rz(π) ├─────┤ X ├┤ Rx(2π/3) ├──────────────────────────────░──╫─┤M├───»\n",
       "«     ├───────┤┌───┐└─┬─┘└──┬───┬───┘ ┌───────┐  ┌───┐┌──────────┐ ░  ║ └╥┘┌─┐»\n",
       "«q_2: ┤ Rz(π) ├┤ X ├──┼─────┤ X ├─────┤ Rz(π) ├──┤ X ├┤ Rx(2π/3) ├─░──╫──╫─┤M├»\n",
       "«     └───────┘└─┬─┘  │     └─┬─┘    ┌┴───────┴─┐└─┬─┘└──────────┘ ░  ║  ║ └╥┘»\n",
       "«q_3: ───────────■────┼───────┼──────┤ Rx(2π/3) ├──┼───────────────░──╫──╫──╫─»\n",
       "«                     │       │      └──────────┘  │  ┌──────────┐ ░  ║  ║  ║ »\n",
       "«q_4: ────────────────■───────■────────────────────■──┤ Rx(2π/3) ├─░──╫──╫──╫─»\n",
       "«                                                     └──────────┘ ░  ║  ║  ║ »\n",
       "«c: 5/════════════════════════════════════════════════════════════════╩══╩══╩═»\n",
       "«                                                                     0  1  2 »\n",
       "«           \n",
       "«q_0: ──────\n",
       "«           \n",
       "«q_1: ──────\n",
       "«           \n",
       "«q_2: ──────\n",
       "«     ┌─┐   \n",
       "«q_3: ┤M├───\n",
       "«     └╥┘┌─┐\n",
       "«q_4: ─╫─┤M├\n",
       "«      ║ └╥┘\n",
       "«c: 5/═╩══╩═\n",
       "«      3  4 "
      ]
     },
     "execution_count": 22,
     "metadata": {},
     "output_type": "execute_result"
    }
   ],
   "source": [
    "qc = get_qaoa_circuit(G,[np.pi/3], [np.pi/2])\n",
    "qc.draw()"
   ]
  },
  {
   "cell_type": "markdown",
   "metadata": {
    "slideshow": {
     "slide_type": "slide"
    }
   },
   "source": [
    "### Running a circuit in Qiskit\n",
    "\n",
    "For the purposes of this tutorial, we will be running the circuits in simulator. To run your circuits on real IBM quantum computers, all you need to do is change the backend. However, the devices are noisy, so there might be dragons!"
   ]
  },
  {
   "cell_type": "markdown",
   "metadata": {
    "slideshow": {
     "slide_type": "fragment"
    }
   },
   "source": [
    "#### Qiskit qubit ordering\n",
    "\n",
    "Note that Qiskit uses an ordering where zeroth qubit is the rightmost (the least significant bit in the bistring),\n",
    "so we need to invert the samples we received"
   ]
  },
  {
   "cell_type": "code",
   "execution_count": 23,
   "metadata": {},
   "outputs": [],
   "source": [
    "def invert_counts(counts):\n",
    "    return {k[::-1]:v for k, v in counts.items()}"
   ]
  },
  {
   "cell_type": "markdown",
   "metadata": {
    "slideshow": {
     "slide_type": "slide"
    }
   },
   "source": [
    "Now we can run the circuit"
   ]
  },
  {
   "cell_type": "code",
   "execution_count": 24,
   "metadata": {
    "slideshow": {
     "slide_type": "-"
    }
   },
   "outputs": [
    {
     "name": "stdout",
     "output_type": "stream",
     "text": [
      "{'11110': 36, '01101': 33, '00001': 31, '00011': 28, '11001': 30, '01000': 31, '10011': 43, '10001': 37, '11000': 34, '10110': 37, '00000': 30, '00111': 32, '10000': 31, '11010': 25, '11111': 26, '11100': 43, '01011': 30, '01110': 30, '11011': 31, '00110': 26, '11101': 26, '01001': 33, '10101': 33, '10100': 34, '01010': 34, '01111': 39, '00010': 29, '00101': 32, '00100': 25, '01100': 32, '10111': 27, '10010': 36}\n"
     ]
    }
   ],
   "source": [
    "backend = Aer.get_backend('qasm_simulator')\n",
    "job = execute(qc, backend)\n",
    "result = job.result()\n",
    "print(invert_counts(result.get_counts()))"
   ]
  },
  {
   "cell_type": "markdown",
   "metadata": {
    "slideshow": {
     "slide_type": "slide"
    }
   },
   "source": [
    "### How good were these results?\n",
    "\n",
    "To answer that, we need to compute $<\\psi|C|\\psi>$. Luckily, C is a classical Hamiltonian, so we can do this easily. We are going to compute -1 times the value of the cut because by convention classical optimizers minimize (this will come up shortly)."
   ]
  },
  {
   "cell_type": "code",
   "execution_count": 25,
   "metadata": {},
   "outputs": [
    {
     "data": {
      "text/plain": [
       "-6"
      ]
     },
     "execution_count": 25,
     "metadata": {},
     "output_type": "execute_result"
    }
   ],
   "source": [
    "def maxcut_obj(x,G):\n",
    "    cut = 0\n",
    "    for i, j in G.edges():\n",
    "        if x[i] != x[j]:\n",
    "            # the edge is cut\n",
    "            cut -= 1\n",
    "    return cut\n",
    "\n",
    "maxcut_obj('00011', G)"
   ]
  },
  {
   "cell_type": "markdown",
   "metadata": {
    "slideshow": {
     "slide_type": "slide"
    }
   },
   "source": [
    "### Estimate energy from the sample"
   ]
  },
  {
   "cell_type": "code",
   "execution_count": 26,
   "metadata": {
    "slideshow": {
     "slide_type": "-"
    }
   },
   "outputs": [
    {
     "data": {
      "text/plain": [
       "-3.064453125"
      ]
     },
     "execution_count": 26,
     "metadata": {},
     "output_type": "execute_result"
    }
   ],
   "source": [
    "def compute_maxcut_energy(counts, G):\n",
    "    energy = 0\n",
    "    total_counts = 0\n",
    "    for meas, meas_count in counts.items():\n",
    "        obj_for_meas = maxcut_obj(meas, G)\n",
    "        energy += obj_for_meas * meas_count\n",
    "        total_counts += meas_count\n",
    "    return energy / total_counts\n",
    "\n",
    "compute_maxcut_energy(invert_counts(result.get_counts()), G)"
   ]
  },
  {
   "cell_type": "markdown",
   "metadata": {
    "slideshow": {
     "slide_type": "slide"
    }
   },
   "source": [
    "### Putting all the pieces together\n",
    "\n",
    "As you remember, we run QAOA as a variational algorithm, so we will need a classical optimizer to optimize the parameters $\\beta$, $\\gamma$. We will use Constrained Optimization BY Linear Approximation (COBYLA) from `scipy.optimize`.\n",
    "\n",
    "We need to wrap our circuit into a black-box objective function `f` that COBYLA could optimize. Note that by convention all optimizers perform _minimization_, so we had to put a minus sign in front of our objective earlier."
   ]
  },
  {
   "cell_type": "code",
   "execution_count": 27,
   "metadata": {},
   "outputs": [],
   "source": [
    "def get_black_box_objective(G,p):\n",
    "    backend = Aer.get_backend('qasm_simulator')\n",
    "    def f(theta):\n",
    "        # let's assume first half is betas, second half is gammas\n",
    "        beta = theta[:p]\n",
    "        gamma = theta[p:]\n",
    "        qc = get_qaoa_circuit(G,beta, gamma)\n",
    "        counts = execute(qc, backend, seed_simulator=10).result().get_counts()\n",
    "        # return the energy\n",
    "        return compute_maxcut_energy(invert_counts(counts), G)\n",
    "    return f"
   ]
  },
  {
   "cell_type": "markdown",
   "metadata": {
    "slideshow": {
     "slide_type": "slide"
    }
   },
   "source": [
    "### Now we can run the optimizer to get optimal parameters!"
   ]
  },
  {
   "cell_type": "code",
   "execution_count": 28,
   "metadata": {},
   "outputs": [
    {
     "data": {
      "text/plain": [
       " message: Optimization terminated successfully.\n",
       " success: True\n",
       "  status: 1\n",
       "     fun: -5.2978515625\n",
       "       x: [ 1.837e+00  2.135e+00  1.932e+00  2.099e+00  3.476e-01\n",
       "            2.046e+00  6.112e+00  2.318e+00  3.565e+00  5.873e+00]\n",
       "    nfev: 134\n",
       "   maxcv: 0.0"
      ]
     },
     "execution_count": 28,
     "metadata": {},
     "output_type": "execute_result"
    }
   ],
   "source": [
    "# p is the number of QAOA alternating operators\n",
    "p = 5\n",
    "obj = get_black_box_objective(G, p)\n",
    "\n",
    "init_point = np.array([0.81069872, 2.2067517 , 0.83830696, 2.15579759, 0.37060699,\n",
    "       2.42068091, 6.1575306 , 2.2453419 , 3.85060091, 6.137845  ])\n",
    "# We are going to limit the number of iterations to 2500\n",
    "res_sample = minimize(obj, init_point, method='COBYLA', options={'maxiter':2500, 'disp': True})\n",
    "res_sample"
   ]
  },
  {
   "cell_type": "markdown",
   "metadata": {
    "slideshow": {
     "slide_type": "slide"
    }
   },
   "source": [
    "### To get the solution strings, let's run the circuit with optimal parameters"
   ]
  },
  {
   "cell_type": "code",
   "execution_count": 29,
   "metadata": {},
   "outputs": [
    {
     "data": {
      "text/plain": [
       "{'11100': 356,\n",
       " '00011': 365,\n",
       " '10011': 26,\n",
       " '00010': 36,\n",
       " '01011': 21,\n",
       " '11000': 20,\n",
       " '10111': 7,\n",
       " '11110': 29,\n",
       " '00100': 6,\n",
       " '01100': 21,\n",
       " '10100': 24,\n",
       " '00111': 26,\n",
       " '00001': 27,\n",
       " '11101': 25,\n",
       " '10001': 3,\n",
       " '11011': 8,\n",
       " '00000': 1,\n",
       " '01111': 2,\n",
       " '11001': 3,\n",
       " '10000': 4,\n",
       " '10101': 2,\n",
       " '01001': 1,\n",
       " '10010': 1,\n",
       " '01101': 3,\n",
       " '11010': 1,\n",
       " '00110': 3,\n",
       " '01010': 1,\n",
       " '10110': 1,\n",
       " '01110': 1}"
      ]
     },
     "execution_count": 29,
     "metadata": {},
     "output_type": "execute_result"
    }
   ],
   "source": [
    "optimal_theta = res_sample['x']\n",
    "qc = get_qaoa_circuit(G, optimal_theta[:p], optimal_theta[p:])\n",
    "counts = invert_counts(execute(qc, backend).result().get_counts())\n",
    "counts"
   ]
  },
  {
   "cell_type": "markdown",
   "metadata": {
    "slideshow": {
     "slide_type": "slide"
    }
   },
   "source": [
    "### How good are there results?"
   ]
  },
  {
   "cell_type": "code",
   "execution_count": 30,
   "metadata": {},
   "outputs": [
    {
     "data": {
      "text/plain": [
       "<BarContainer object of 5 artists>"
      ]
     },
     "execution_count": 30,
     "metadata": {},
     "output_type": "execute_result"
    },
    {
     "data": {
      "image/png": "[encoded data removed]",
      "text/plain": [
       "<Figure size 640x480 with 1 Axes>"
      ]
     },
     "metadata": {},
     "output_type": "display_data"
    }
   ],
   "source": [
    "energies = defaultdict(int)\n",
    "for k, v in counts.items():\n",
    "    energies[maxcut_obj(k,G)] += v\n",
    "\n",
    "x,y = zip(*energies.items())\n",
    "plt.bar(x,y)"
   ]
  },
  {
   "cell_type": "markdown",
   "metadata": {},
   "source": [
    "Pretty good! Most of the results we get correspond to good solutions!"
   ]
  },
  {
   "cell_type": "code",
   "execution_count": 31,
   "metadata": {
    "slideshow": {
     "slide_type": "slide"
    }
   },
   "outputs": [
    {
     "name": "stdout",
     "output_type": "stream",
     "text": [
      "Best string: 11100 with cut: 6\n"
     ]
    },
    {
     "data": {
      "image/png": "[encoded data removed]",
      "text/plain": [
       "<Figure size 640x480 with 1 Axes>"
      ]
     },
     "metadata": {},
     "output_type": "display_data"
    }
   ],
   "source": [
    "# get the best solution:\n",
    "best_cut, best_solution = min([(maxcut_obj(x,G),x) for x in counts.keys()], key=itemgetter(0))\n",
    "print(f\"Best string: {best_solution} with cut: {-best_cut}\")\n",
    "\n",
    "# color the graph nodes by part\n",
    "colors = ['r' if best_solution[node] == '0' else 'b' for node in G]\n",
    "nx.draw(G,node_color = colors, pos=nx.bipartite_layout(G, [0,1,2]))"
   ]
  },
  {
   "cell_type": "markdown",
   "metadata": {
    "slideshow": {
     "slide_type": "slide"
    }
   },
   "source": [
    "### Using statevector simulator\n",
    "\n",
    "What if you want to get the full QAOA state? Luckily, Qiskit provides `statevector_simulator` backend. \n",
    "\n",
    "### What is a state vector?\n",
    "\n",
    "State vector is a vector of amplitudes, e.g.: $\\frac{1}{\\sqrt{2}}\\bigg(|00\\rangle + |11\\rangle\\bigg) \\rightarrow (\\frac{1}{\\sqrt{2}}, 0, 0, \\frac{1}{\\sqrt{2}})$"
   ]
  },
  {
   "cell_type": "code",
   "execution_count": 32,
   "metadata": {},
   "outputs": [
    {
     "name": "stdout",
     "output_type": "stream",
     "text": [
      "Statevector([0.70710678+0.j, 0.        +0.j, 0.        +0.j,\n",
      "             0.70710678+0.j],\n",
      "            dims=(2, 2))\n"
     ]
    }
   ],
   "source": [
    "qc = QuantumCircuit(2)\n",
    "qc.h(0)\n",
    "qc.cx(0,1)\n",
    "sv = execute(qc, backend=Aer.get_backend('statevector_simulator')).result().get_statevector()\n",
    "sv"
   ]
  },
  {
   "cell_type": "markdown",
   "metadata": {
    "slideshow": {
     "slide_type": "slide"
    }
   },
   "source": [
    "Less luckily, qubit ordering considerations still apply. Below are some helper functions we're going to use."
   ]
  },
  {
   "cell_type": "code",
   "execution_count": 33,
   "metadata": {},
   "outputs": [],
   "source": [
    "# Endianness conversion tools from https://github.com/Qiskit/qiskit-terra/issues/1148#issuecomment-438574708\n",
    "\n",
    "import numpy as np\n",
    "\n",
    "def state_num2str(basis_state_as_num, nqubits):\n",
    "    return '{0:b}'.format(basis_state_as_num).zfill(nqubits)\n",
    "\n",
    "def state_str2num(basis_state_as_str):\n",
    "    return int(basis_state_as_str, 2)\n",
    "\n",
    "def state_reverse(basis_state_as_num, nqubits):\n",
    "    basis_state_as_str = state_num2str(basis_state_as_num, nqubits)\n",
    "    new_str = basis_state_as_str[::-1]\n",
    "    return state_str2num(new_str)\n",
    "\n",
    "def get_adjusted_state(state):\n",
    "    nqubits = np.log2(state.shape[0])\n",
    "    if nqubits % 1:\n",
    "        raise ValueError(\"Input vector is not a valid statevector for qubits.\")\n",
    "    nqubits = int(nqubits)\n",
    "\n",
    "    adjusted_state = np.zeros(2**nqubits, dtype=complex)\n",
    "    for basis_state in range(2**nqubits):\n",
    "         adjusted_state[state_reverse(basis_state, nqubits)] = state[basis_state]\n",
    "    return adjusted_state"
   ]
  },
  {
   "cell_type": "markdown",
   "metadata": {
    "slideshow": {
     "slide_type": "slide"
    }
   },
   "source": [
    "### Running using full-state (`statevector`) simulator\n",
    "\n",
    "Note that a few things are different when using the full statevector simulator. First, we must not measure. Second, as the result, we get amplitudes instead of samples."
   ]
  },
  {
   "cell_type": "code",
   "execution_count": 37,
   "metadata": {},
   "outputs": [],
   "source": [
    "def get_qaoa_circuit_sv(G, beta, gamma):\n",
    "    assert(len(beta) == len(gamma))\n",
    "    p = len(beta) # infering number of QAOA steps from the parameters passed\n",
    "    N = G.number_of_nodes()\n",
    "    qc = QuantumCircuit(N,N)\n",
    "    # first, apply a layer of Hadamards\n",
    "    qc.h(range(N))\n",
    "    # second, apply p alternating operators\n",
    "    for i in range(p):\n",
    "        qc = qc.compose(get_cost_operator_circuit(G,gamma[i]))\n",
    "        qc = qc.compose(get_mixer_operator_circuit(G,beta[i]))\n",
    "#         qc += get_cost_operator_circuit(G,gamma[i])\n",
    "#         qc += get_mixer_operator_circuit(G,beta[i])\n",
    "    # no measurement in the end!\n",
    "    return qc"
   ]
  },
  {
   "cell_type": "markdown",
   "metadata": {
    "slideshow": {
     "slide_type": "slide"
    }
   },
   "source": [
    "Second, we need to get which amplitudes correspond to which computational basis states (= binary strings)"
   ]
  },
  {
   "cell_type": "code",
   "execution_count": 38,
   "metadata": {},
   "outputs": [],
   "source": [
    "def state_to_ampl_counts(vec, eps=1e-15):\n",
    "    \"\"\"Converts a statevector to a dictionary\n",
    "    of bitstrings and corresponding amplitudes\n",
    "    \"\"\"\n",
    "    qubit_dims = np.log2(vec.shape[0])\n",
    "    if qubit_dims % 1:\n",
    "        raise ValueError(\"Input vector is not a valid statevector for qubits.\")\n",
    "    qubit_dims = int(qubit_dims)\n",
    "    counts = {}\n",
    "    str_format = '0{}b'.format(qubit_dims)\n",
    "    for kk in range(vec.shape[0]):\n",
    "        val = vec[kk]\n",
    "        if val.real**2+val.imag**2 > eps:\n",
    "            counts[format(kk, str_format)] = val\n",
    "    return counts\n"
   ]
  },
  {
   "cell_type": "markdown",
   "metadata": {
    "slideshow": {
     "slide_type": "slide"
    }
   },
   "source": [
    "Let's try plugging in the optimal parameters we found using the QASM simulator"
   ]
  },
  {
   "cell_type": "code",
   "execution_count": 39,
   "metadata": {},
   "outputs": [
    {
     "name": "stderr",
     "output_type": "stream",
     "text": [
      "C:\\Users\\Simon\\AppData\\Local\\Temp\\ipykernel_11124\\1142224419.py:17: DeprecationWarning: The return type of saved statevectors has been changed from a `numpy.ndarray` to a `qiskit.quantum_info.Statevector` as of qiskit-aer 0.10. Accessing numpy array attributes is deprecated and will result in an error in a future release. To continue using saved result objects as arrays you can explicitly cast them using  `np.asarray(object)`.\n",
      "  nqubits = np.log2(state.shape[0])\n"
     ]
    },
    {
     "data": {
      "text/plain": [
       "{'00000': (0.014279499254842783+0.011623320789211012j),\n",
       " '00001': (0.1343820158905132-0.09405829764019871j),\n",
       " '00010': (0.13438201589051332-0.09405829764019873j),\n",
       " '00011': (-0.01602140096028883-0.6036236563655755j),\n",
       " '00100': (-0.053501339525443586+0.0060600759923613865j),\n",
       " '00101': (-0.03628471735810247-0.010367992306133694j),\n",
       " '00110': (-0.036284717358102535-0.010367992306133693j),\n",
       " '00111': (-0.062136581172159255+0.1321705184193229j),\n",
       " '01000': (-0.05350133952544358+0.006060075992361411j),\n",
       " '01001': (-0.03628471735810241-0.010367992306133628j),\n",
       " '01010': (-0.03628471735810244-0.010367992306133661j),\n",
       " '01011': (-0.062136581172159366+0.13217051841932298j),\n",
       " '01100': (-0.06213658117215941+0.13217051841932295j),\n",
       " '01101': (-0.03628471735810236-0.010367992306133696j),\n",
       " '01110': (-0.036284717358102465-0.010367992306133639j),\n",
       " '01111': (-0.05350133952544354+0.006060075992361411j),\n",
       " '10000': (-0.053501339525443545+0.006060075992361449j),\n",
       " '10001': (-0.03628471735810247-0.010367992306133587j),\n",
       " '10010': (-0.036284717358102354-0.010367992306133582j),\n",
       " '10011': (-0.0621365811721594+0.13217051841932292j),\n",
       " '10100': (-0.062136581172159276+0.13217051841932306j),\n",
       " '10101': (-0.03628471735810248-0.01036799230613365j),\n",
       " '10110': (-0.036284717358102486-0.010367992306133668j),\n",
       " '10111': (-0.05350133952544362+0.006060075992361443j),\n",
       " '11000': (-0.06213658117215933+0.132170518419323j),\n",
       " '11001': (-0.03628471735810249-0.010367992306133675j),\n",
       " '11010': (-0.03628471735810251-0.010367992306133693j),\n",
       " '11011': (-0.05350133952544361+0.006060075992361388j),\n",
       " '11100': (-0.016021400960288888-0.6036236563655755j),\n",
       " '11101': (0.13438201589051332-0.09405829764019882j),\n",
       " '11110': (0.13438201589051327-0.09405829764019864j),\n",
       " '11111': (0.014279499254842752+0.011623320789211003j)}"
      ]
     },
     "execution_count": 39,
     "metadata": {},
     "output_type": "execute_result"
    }
   ],
   "source": [
    "backend = Aer.get_backend('statevector_simulator')\n",
    "qc = get_qaoa_circuit_sv(G, optimal_theta[:p], optimal_theta[p:])\n",
    "sv = get_adjusted_state(execute(qc, backend).result().get_statevector())\n",
    "state_to_ampl_counts(sv)"
   ]
  },
  {
   "cell_type": "markdown",
   "metadata": {
    "slideshow": {
     "slide_type": "slide"
    }
   },
   "source": [
    "### Let's verify that we get the same energy"
   ]
  },
  {
   "cell_type": "code",
   "execution_count": 40,
   "metadata": {},
   "outputs": [
    {
     "data": {
      "text/plain": [
       "-5.2962604856081175"
      ]
     },
     "execution_count": 40,
     "metadata": {},
     "output_type": "execute_result"
    }
   ],
   "source": [
    "def compute_maxcut_energy_sv(sv, G):\n",
    "    \"\"\"Compute objective from statevector\n",
    "    For large number of qubits, this is slow. \n",
    "    \"\"\"\n",
    "    counts = state_to_ampl_counts(sv)\n",
    "    return sum(maxcut_obj(np.array([int(x) for x in k]), G) * (np.abs(v)**2) for k, v in counts.items())\n",
    "\n",
    "compute_maxcut_energy_sv(sv, G)"
   ]
  },
  {
   "cell_type": "markdown",
   "metadata": {},
   "source": [
    "Yay! Energy matches"
   ]
  },
  {
   "cell_type": "markdown",
   "metadata": {
    "slideshow": {
     "slide_type": "slide"
    }
   },
   "source": [
    "### Now, we can run the full optimization loop with the statevector simulator"
   ]
  },
  {
   "cell_type": "code",
   "execution_count": 41,
   "metadata": {},
   "outputs": [],
   "source": [
    "def get_black_box_objective_sv(G,p):\n",
    "    backend = Aer.get_backend('statevector_simulator')\n",
    "    def f(theta):\n",
    "        # let's assume first half is betas, second half is gammas\n",
    "        beta = theta[:p]\n",
    "        gamma = theta[p:]\n",
    "        qc = get_qaoa_circuit_sv(G,beta, gamma)\n",
    "        sv = execute(qc, backend).result().get_statevector()\n",
    "        # return the energy\n",
    "        return compute_maxcut_energy_sv(get_adjusted_state(sv), G)\n",
    "    return f"
   ]
  },
  {
   "cell_type": "markdown",
   "metadata": {
    "slideshow": {
     "slide_type": "slide"
    }
   },
   "source": [
    "Copying and pasting the code for the `qasm_simulator`..."
   ]
  },
  {
   "cell_type": "code",
   "execution_count": 42,
   "metadata": {},
   "outputs": [
    {
     "name": "stderr",
     "output_type": "stream",
     "text": [
      "C:\\Users\\Simon\\AppData\\Local\\Temp\\ipykernel_11124\\1142224419.py:17: DeprecationWarning: The return type of saved statevectors has been changed from a `numpy.ndarray` to a `qiskit.quantum_info.Statevector` as of qiskit-aer 0.10. Accessing numpy array attributes is deprecated and will result in an error in a future release. To continue using saved result objects as arrays you can explicitly cast them using  `np.asarray(object)`.\n",
      "  nqubits = np.log2(state.shape[0])\n"
     ]
    },
    {
     "data": {
      "text/plain": [
       " message: Maximum number of function evaluations has been exceeded.\n",
       " success: False\n",
       "  status: 2\n",
       "     fun: -5.951602321022779\n",
       "       x: [ 2.224e+00  1.992e+00  1.983e+00  1.810e+00  5.628e-01\n",
       "            2.259e+00  6.074e+00  2.401e+00  3.778e+00  6.033e+00]\n",
       "    nfev: 2500\n",
       "   maxcv: 0.0"
      ]
     },
     "execution_count": 42,
     "metadata": {},
     "output_type": "execute_result"
    }
   ],
   "source": [
    "# p is the number of QAOA alternating operators\n",
    "p = 5\n",
    "obj = get_black_box_objective_sv(G, p)\n",
    "\n",
    "init_point = np.array([0.81069872, 2.2067517 , 0.83830696, 2.15579759, 0.37060699,\n",
    "       2.42068091, 6.1575306 , 2.2453419 , 3.85060091, 6.137845  ])\n",
    "# We are going to limit the number of iterations to 2500\n",
    "res_sv = minimize(obj, init_point, method='COBYLA', options={'maxiter':2500, 'disp': True})\n",
    "res_sv"
   ]
  },
  {
   "cell_type": "markdown",
   "metadata": {
    "slideshow": {
     "slide_type": "slide"
    }
   },
   "source": [
    "We get **much better solution** if we have access to the full state vector! In fact, if we run it long enough, we will get arbitratily close to the true optimum (to verify it yourself, try setting `'maxiter':10000` above)"
   ]
  },
  {
   "cell_type": "code",
   "execution_count": 43,
   "metadata": {},
   "outputs": [
    {
     "name": "stdout",
     "output_type": "stream",
     "text": [
      "Best energy with samples: -5.2979, with full state vector: -5.9516\n"
     ]
    }
   ],
   "source": [
    "print(f\"Best energy with samples: {res_sample['fun']:.4f}, with full state vector: {res_sv['fun']:.4f}\")"
   ]
  },
  {
   "cell_type": "markdown",
   "metadata": {
    "slideshow": {
     "slide_type": "fragment"
    }
   },
   "source": [
    "This is because with samples we get stuck in a lower quality point:"
   ]
  },
  {
   "cell_type": "code",
   "execution_count": 44,
   "metadata": {},
   "outputs": [
    {
     "name": "stdout",
     "output_type": "stream",
     "text": [
      "Angles found with samples: beta=[1.83749394 2.1345936  1.9319531  2.09862998 0.347631  ], gamma=[2.04618358 6.11249139 2.31785137 3.56479392 5.87260613]\n",
      "Angles found with full state: beta=[2.22385838 1.99203887 1.98325966 1.81047879 0.5628181 ], gamma=[2.25858382 6.07391324 2.40060843 3.77786435 6.03297875]\n"
     ]
    }
   ],
   "source": [
    "print(f\"Angles found with samples: beta={res_sample['x'][:p]}, gamma={res_sample['x'][p:]}\")\n",
    "print(f\"Angles found with full state: beta={res_sv['x'][:p]}, gamma={res_sv['x'][p:]}\")"
   ]
  },
  {
   "cell_type": "markdown",
   "metadata": {},
   "source": [
    "Note that these are two different points!"
   ]
  },
  {
   "cell_type": "markdown",
   "metadata": {
    "slideshow": {
     "slide_type": "slide"
    }
   },
   "source": [
    "An important point to make is that this is **not a local minimum** that COBYLA gets stuck in when using the sampling. We can easily verify that by running COBYLA with full state from that point"
   ]
  },
  {
   "cell_type": "code",
   "execution_count": 45,
   "metadata": {},
   "outputs": [
    {
     "name": "stderr",
     "output_type": "stream",
     "text": [
      "C:\\Users\\Simon\\AppData\\Local\\Temp\\ipykernel_11124\\1142224419.py:17: DeprecationWarning: The return type of saved statevectors has been changed from a `numpy.ndarray` to a `qiskit.quantum_info.Statevector` as of qiskit-aer 0.10. Accessing numpy array attributes is deprecated and will result in an error in a future release. To continue using saved result objects as arrays you can explicitly cast them using  `np.asarray(object)`.\n",
      "  nqubits = np.log2(state.shape[0])\n"
     ]
    },
    {
     "data": {
      "text/plain": [
       " message: Maximum number of function evaluations has been exceeded.\n",
       " success: False\n",
       "  status: 2\n",
       "     fun: -5.379488009621209\n",
       "       x: [ 1.849e+00  2.143e+00  1.943e+00  2.084e+00  3.674e-01\n",
       "            2.046e+00  6.123e+00  2.310e+00  3.577e+00  5.865e+00]\n",
       "    nfev: 50\n",
       "   maxcv: 0.0"
      ]
     },
     "execution_count": 45,
     "metadata": {},
     "output_type": "execute_result"
    }
   ],
   "source": [
    "# p is the number of QAOA alternating operators\n",
    "p = 5\n",
    "obj = get_black_box_objective_sv(G, p)\n",
    "\n",
    "init_point = res_sample['x']\n",
    "# 'rhobeg' controls initial changes to the variables. \n",
    "# We set it low to make sure we are searching a small neighborhood of the optimal point\n",
    "res_sv2 = minimize(obj, init_point, method='COBYLA', options={'maxiter':50, 'disp': True, 'rhobeg': 0.001})\n",
    "res_sv2"
   ]
  },
  {
   "cell_type": "markdown",
   "metadata": {},
   "source": [
    "The lesson here is that our simple deterministic optimizers (like COBYLA) assume that *every function value they get is true*. This causes them to thing that a point is a local minimum, when in fact it is not. We have to bake the assumption of stochaisticity into the optimizers we use!"
   ]
  },
  {
   "cell_type": "markdown",
   "metadata": {
    "slideshow": {
     "slide_type": "slide"
    }
   },
   "source": [
    "### That was pretty involved! Is there an easier way?\n",
    "\n",
    "So far we have effectively reimplemented the entire stack of tools used in Qiskit. Wasn't too bad, huh? Note that you can fairly easily do the above in any framework you prefer (Google cirq, Rigetti PyQuil, ...), all you need to learn is how to apply gates. What follows is more specific to IBM Qiskit (though not entirely).\n",
    "\n",
    "Luckily, you don't have to reimplement QAOA every time you want to use it (though I do recommend doing it at least once to understand what's going on!)\n",
    "\n",
    "Qiskit provides a number of tools for optimization, some as simple to use as plugging your graph into a declarative interface. Today we're going to look at some of them. I have copied and pasted some of the code from Qiskit here for educational purposes."
   ]
  },
  {
   "cell_type": "markdown",
   "metadata": {
    "slideshow": {
     "slide_type": "slide"
    }
   },
   "source": [
    "### Recap\n",
    "\n",
    "To solve MAXCUT we had to do the following:\n",
    "\n",
    "1. Choose a problem class (maxcut) and a problem instance (graph)\n",
    "2. Come up with a general Hamiltonian for the problem class\n",
    "3. Build specific Hamiltonian for the problem instance\n",
    "4. From the Hamiltonian, construct QAOA circuit\n",
    "5. Wrap QAOA circuit in a black box function\n",
    "6. Optimize QAOA parameters\n",
    "7. Get solution by running QAOA circuit with optimal parameters"
   ]
  },
  {
   "cell_type": "markdown",
   "metadata": {
    "slideshow": {
     "slide_type": "slide"
    }
   },
   "source": [
    "### Qiskit to help!\n",
    "\n",
    "Let's see how Qiskit can help us with steps 3 and 4:\n",
    "\n",
    "\n",
    "1. Choose a problem class (maxcut) and a problem instance (graph)\n",
    "2. Come up with a general Hamiltonian for the problem class\n",
    "3. **Build specific Hamiltonian for the problem instance**\n",
    "4. **From the Hamiltonian, construct QAOA circuit**\n",
    "5. Wrap QAOA circuit in a black box function\n",
    "6. Optimize QAOA parameters\n",
    "7. Get solution by running QAOA circuit with optimal parameters"
   ]
  },
  {
   "cell_type": "markdown",
   "metadata": {
    "slideshow": {
     "slide_type": "slide"
    }
   },
   "source": [
    "### Building the Hamiltonian in Qiskit\n",
    "\n",
    "To build the Hamiltonian in Qiskit, we need to construct the optimization problem in appropriate format (e.g. load from Docplex)\n",
    "\n",
    "(requires \"pip install qiskit[optimization]\")"
   ]
  },
  {
   "cell_type": "code",
   "execution_count": 5,
   "metadata": {},
   "outputs": [],
   "source": [
    "# copied from https://github.com/QAOAKit/QAOAKit/blob/722304af4a09f8dfc2753726f3c7b1577154ccd1/QAOAKit/qaoa.py#L60\n",
    "\n",
    "from qiskit_optimization import QuadraticProgram\n",
    "\n",
    "def get_cost_operator(G):\n",
    "    \"\"\"Generate Hamiltonian for the max-cut problem of a graph\n",
    "    \"\"\"\n",
    "    n_qubits = len(G.nodes())\n",
    "    problem = QuadraticProgram()\n",
    "    _ = [problem.binary_var(\"x{}\".format(i)) for i in range(n_qubits)]\n",
    "    problem.maximize(\n",
    "        linear=nx.adjacency_matrix(G).dot(np.ones(n_qubits)),\n",
    "        quadratic=-nx.adjacency_matrix(G),\n",
    "    )\n",
    "    return problem.to_ising()"
   ]
  },
  {
   "cell_type": "markdown",
   "metadata": {
    "slideshow": {
     "slide_type": "slide"
    }
   },
   "source": [
    "### First, let's construct a Hamiltonian \n",
    "\n",
    "Recall the MAXCUT objective is $\\max_{\\mathbb{s}}\\frac{1}{2}\\sum_{ij\\in E}(1-s_is_j) = \\max_{\\mathbb{s}}\\frac{1}{2}\\sum_{ij\\in E}(-s_is_j) + const$. Qiskit conveniently takes care of the constant in form of offset.\n",
    "\n",
    "Corresponding Hamiltonian is $\\frac{1}{2}\\sum_{ij\\in E}(-Z_iZ_j)$, but Qiskit by convention always searches for the _ground_ state, so the sign is flipped."
   ]
  },
  {
   "cell_type": "code",
   "execution_count": 6,
   "metadata": {},
   "outputs": [
    {
     "name": "stdout",
     "output_type": "stream",
     "text": [
      "0.5 * IIIZZ\n",
      "+ 0.5 * IIZIZ\n",
      "+ 0.5 * IZIZI\n",
      "+ 0.5 * IZZII\n",
      "+ 0.5 * ZIIZI\n",
      "+ 0.5 * ZIZII\n"
     ]
    }
   ],
   "source": [
    "C, offset = get_cost_operator(G)\n",
    "print(C)"
   ]
  },
  {
   "cell_type": "markdown",
   "metadata": {},
   "source": [
    "Looks correct!"
   ]
  },
  {
   "cell_type": "markdown",
   "metadata": {
    "slideshow": {
     "slide_type": "slide"
    }
   },
   "source": [
    "We can generate the QAOA circuit for this Hamiltonian:"
   ]
  },
  {
   "cell_type": "code",
   "execution_count": 7,
   "metadata": {},
   "outputs": [
    {
     "data": {
      "text/html": [
       "<pre style=\"word-wrap: normal;white-space: pre;background: #fff0;line-height: 1.1;font-family: &quot;Courier New&quot;,Courier,monospace\">     ┌───┐»\n",
       "q_0: ┤ H ├»\n",
       "     ├───┤»\n",
       "q_1: ┤ H ├»\n",
       "     ├───┤»\n",
       "q_2: ┤ H ├»\n",
       "     ├───┤»\n",
       "q_3: ┤ H ├»\n",
       "     ├───┤»\n",
       "q_4: ┤ H ├»\n",
       "     └───┘»\n",
       "«     ┌─────────────────────────────────────────────────────────────────────┐»\n",
       "«q_0: ┤0                                                                    ├»\n",
       "«     │                                                                     │»\n",
       "«q_1: ┤1                                                                    ├»\n",
       "«     │                                                                     │»\n",
       "«q_2: ┤2 exp(-it (IIIZZ + IIZIZ + IZIZI + IZZII + ZIIZI + ZIZII))(1.0*γ[0]) ├»\n",
       "«     │                                                                     │»\n",
       "«q_3: ┤3                                                                    ├»\n",
       "«     │                                                                     │»\n",
       "«q_4: ┤4                                                                    ├»\n",
       "«     └─────────────────────────────────────────────────────────────────────┘»\n",
       "«     ┌─────────────────────────────────────────────────────────┐\n",
       "«q_0: ┤0                                                        ├\n",
       "«     │                                                         │\n",
       "«q_1: ┤1                                                        ├\n",
       "«     │                                                         │\n",
       "«q_2: ┤2 exp(-it (XIIII + IXIII + IIXII + IIIXI + IIIIX))(β[0]) ├\n",
       "«     │                                                         │\n",
       "«q_3: ┤3                                                        ├\n",
       "«     │                                                         │\n",
       "«q_4: ┤4                                                        ├\n",
       "«     └─────────────────────────────────────────────────────────┘</pre>"
      ],
      "text/plain": [
       "     ┌───┐»\n",
       "q_0: ┤ H ├»\n",
       "     ├───┤»\n",
       "q_1: ┤ H ├»\n",
       "     ├───┤»\n",
       "q_2: ┤ H ├»\n",
       "     ├───┤»\n",
       "q_3: ┤ H ├»\n",
       "     ├───┤»\n",
       "q_4: ┤ H ├»\n",
       "     └───┘»\n",
       "«     ┌─────────────────────────────────────────────────────────────────────┐»\n",
       "«q_0: ┤0                                                                    ├»\n",
       "«     │                                                                     │»\n",
       "«q_1: ┤1                                                                    ├»\n",
       "«     │                                                                     │»\n",
       "«q_2: ┤2 exp(-it (IIIZZ + IIZIZ + IZIZI + IZZII + ZIIZI + ZIZII))(1.0*γ[0]) ├»\n",
       "«     │                                                                     │»\n",
       "«q_3: ┤3                                                                    ├»\n",
       "«     │                                                                     │»\n",
       "«q_4: ┤4                                                                    ├»\n",
       "«     └─────────────────────────────────────────────────────────────────────┘»\n",
       "«     ┌─────────────────────────────────────────────────────────┐\n",
       "«q_0: ┤0                                                        ├\n",
       "«     │                                                         │\n",
       "«q_1: ┤1                                                        ├\n",
       "«     │                                                         │\n",
       "«q_2: ┤2 exp(-it (XIIII + IXIII + IIXII + IIIXI + IIIIX))(β[0]) ├\n",
       "«     │                                                         │\n",
       "«q_3: ┤3                                                        ├\n",
       "«     │                                                         │\n",
       "«q_4: ┤4                                                        ├\n",
       "«     └─────────────────────────────────────────────────────────┘"
      ]
     },
     "execution_count": 7,
     "metadata": {},
     "output_type": "execute_result"
    }
   ],
   "source": [
    "from qiskit.algorithms.minimum_eigen_solvers.qaoa import QAOAAnsatz\n",
    "\n",
    "p = 1 \n",
    "\n",
    "ansatz = QAOAAnsatz(C, p).decompose()\n",
    "\n",
    "ansatz.draw()"
   ]
  },
  {
   "cell_type": "markdown",
   "metadata": {
    "slideshow": {
     "slide_type": "slide"
    }
   },
   "source": [
    "And plug in the parameters"
   ]
  },
  {
   "cell_type": "code",
   "execution_count": 8,
   "metadata": {},
   "outputs": [
    {
     "data": {
      "text/html": [
       "<pre style=\"word-wrap: normal;white-space: pre;background: #fff0;line-height: 1.1;font-family: &quot;Courier New&quot;,Courier,monospace\">     ┌───┐»\n",
       "q_0: ┤ H ├»\n",
       "     ├───┤»\n",
       "q_1: ┤ H ├»\n",
       "     ├───┤»\n",
       "q_2: ┤ H ├»\n",
       "     ├───┤»\n",
       "q_3: ┤ H ├»\n",
       "     ├───┤»\n",
       "q_4: ┤ H ├»\n",
       "     └───┘»\n",
       "«     ┌──────────────────────────────────────────────────────────────────────────────┐»\n",
       "«q_0: ┤0                                                                             ├»\n",
       "«     │                                                                              │»\n",
       "«q_1: ┤1                                                                             ├»\n",
       "«     │                                                                              │»\n",
       "«q_2: ┤2 exp(-it (IIIZZ + IIZIZ + IZIZI + IZZII + ZIIZI + ZIZII))(0.110381582465628) ├»\n",
       "«     │                                                                              │»\n",
       "«q_3: ┤3                                                                             ├»\n",
       "«     │                                                                              │»\n",
       "«q_4: ┤4                                                                             ├»\n",
       "«     └──────────────────────────────────────────────────────────────────────────────┘»\n",
       "«     ┌───────────────────────────────────────────────────────────────────────┐\n",
       "«q_0: ┤0                                                                      ├\n",
       "«     │                                                                       │\n",
       "«q_1: ┤1                                                                      ├\n",
       "«     │                                                                       │\n",
       "«q_2: ┤2 exp(-it (XIIII + IXIII + IIXII + IIIXI + IIIIX))(0.0857182046139705) ├\n",
       "«     │                                                                       │\n",
       "«q_3: ┤3                                                                      ├\n",
       "«     │                                                                       │\n",
       "«q_4: ┤4                                                                      ├\n",
       "«     └───────────────────────────────────────────────────────────────────────┘</pre>"
      ],
      "text/plain": [
       "     ┌───┐»\n",
       "q_0: ┤ H ├»\n",
       "     ├───┤»\n",
       "q_1: ┤ H ├»\n",
       "     ├───┤»\n",
       "q_2: ┤ H ├»\n",
       "     ├───┤»\n",
       "q_3: ┤ H ├»\n",
       "     ├───┤»\n",
       "q_4: ┤ H ├»\n",
       "     └───┘»\n",
       "«     ┌──────────────────────────────────────────────────────────────────────────────┐»\n",
       "«q_0: ┤0                                                                             ├»\n",
       "«     │                                                                              │»\n",
       "«q_1: ┤1                                                                             ├»\n",
       "«     │                                                                              │»\n",
       "«q_2: ┤2 exp(-it (IIIZZ + IIZIZ + IZIZI + IZZII + ZIIZI + ZIZII))(0.110381582465628) ├»\n",
       "«     │                                                                              │»\n",
       "«q_3: ┤3                                                                             ├»\n",
       "«     │                                                                              │»\n",
       "«q_4: ┤4                                                                             ├»\n",
       "«     └──────────────────────────────────────────────────────────────────────────────┘»\n",
       "«     ┌───────────────────────────────────────────────────────────────────────┐\n",
       "«q_0: ┤0                                                                      ├\n",
       "«     │                                                                       │\n",
       "«q_1: ┤1                                                                      ├\n",
       "«     │                                                                       │\n",
       "«q_2: ┤2 exp(-it (XIIII + IXIII + IIXII + IIIXI + IIIIX))(0.0857182046139705) ├\n",
       "«     │                                                                       │\n",
       "«q_3: ┤3                                                                      ├\n",
       "«     │                                                                       │\n",
       "«q_4: ┤4                                                                      ├\n",
       "«     └───────────────────────────────────────────────────────────────────────┘"
      ]
     },
     "execution_count": 8,
     "metadata": {},
     "output_type": "execute_result"
    }
   ],
   "source": [
    "angles = np.random.uniform(low=0, high=np.pi / 2, size=2 * p)\n",
    "qc = ansatz.bind_parameters(angles)\n",
    "qc.draw()"
   ]
  },
  {
   "cell_type": "code",
   "execution_count": null,
   "metadata": {},
   "outputs": [],
   "source": []
  }
 ],
 "metadata": {
  "celltoolbar": "Slideshow",
  "kernelspec": {
   "display_name": "Python 3 (ipykernel)",
   "language": "python",
   "name": "python3"
  },
  "language_info": {
   "codemirror_mode": {
    "name": "ipython",
    "version": 3
   },
   "file_extension": ".py",
   "mimetype": "text/x-python",
   "name": "python",
   "nbconvert_exporter": "python",
   "pygments_lexer": "ipython3",
   "version": "3.10.11"
  }
 },
 "nbformat": 4,
 "nbformat_minor": 2
}
