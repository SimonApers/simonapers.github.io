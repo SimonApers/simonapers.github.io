{
 "cells": [
  {
   "cell_type": "markdown",
   "id": "177582ad",
   "metadata": {},
   "source": [
    "# Qiskit notebook"
   ]
  },
  {
   "cell_type": "code",
   "execution_count": 1,
   "id": "25340708",
   "metadata": {},
   "outputs": [
    {
     "data": {
      "text/html": [
       "<h3>Version Information</h3><table><tr><th>Qiskit Software</th><th>Version</th></tr><tr><td><code>qiskit-terra</code></td><td>0.24.0</td></tr><tr><td><code>qiskit-aer</code></td><td>0.12.0</td></tr><tr><td><code>qiskit-ibmq-provider</code></td><td>0.20.2</td></tr><tr><td><code>qiskit</code></td><td>0.43.0</td></tr><tr><td><code>qiskit-optimization</code></td><td>0.5.0</td></tr><tr><th>System information</th></tr><tr><td>Python version</td><td>3.10.11</td></tr><tr><td>Python compiler</td><td>MSC v.1916 64 bit (AMD64)</td></tr><tr><td>Python build</td><td>main, Apr 20 2023 18:56:50</td></tr><tr><td>OS</td><td>Windows</td></tr><tr><td>CPUs</td><td>4</td></tr><tr><td>Memory (Gb)</td><td>15.77505874633789</td></tr><tr><td colspan='2'>Thu May 25 21:24:58 2023 Romance Daylight Time</td></tr></table>"
      ],
      "text/plain": [
       "<IPython.core.display.HTML object>"
      ]
     },
     "metadata": {},
     "output_type": "display_data"
    }
   ],
   "source": [
    "from qiskit import QuantumCircuit, Aer, transpile\n",
    "from qiskit.quantum_info import Statevector, Operator\n",
    "from qiskit.visualization import array_to_latex, plot_histogram\n",
    "from qiskit.extensions import HamiltonianGate\n",
    "import numpy as np\n",
    "import qiskit.tools.jupyter\n",
    "%qiskit_version_table"
   ]
  },
  {
   "cell_type": "markdown",
   "id": "8612bd93",
   "metadata": {},
   "source": [
    "# Circuits and measurements\n",
    "Create quantum states:"
   ]
  },
  {
   "cell_type": "code",
   "execution_count": 2,
   "id": "e1737115",
   "metadata": {},
   "outputs": [
    {
     "name": "stdout",
     "output_type": "stream",
     "text": [
      "\n",
      "Braket notation:\n"
     ]
    },
    {
     "data": {
      "text/latex": [
       "$$ |01\\rangle$$"
      ],
      "text/plain": [
       "<IPython.core.display.Latex object>"
      ]
     },
     "metadata": {},
     "output_type": "display_data"
    },
    {
     "name": "stdout",
     "output_type": "stream",
     "text": [
      "\n",
      "Vector notation:\n"
     ]
    },
    {
     "data": {
      "text/latex": [
       "$$\n",
       "\n",
       "\\begin{bmatrix}\n",
       "0 & 1 & 0 & 0  \\\\\n",
       " \\end{bmatrix}\n",
       "$$"
      ],
      "text/plain": [
       "<IPython.core.display.Latex object>"
      ]
     },
     "metadata": {},
     "output_type": "display_data"
    }
   ],
   "source": [
    "# number of qubits\n",
    "nq = 2\n",
    "\n",
    "# create quantum state\n",
    "psi = Statevector([0,1,0,0], 2**nq) # Statevector(vector, dimension = 2^(# qubits))\n",
    "print(\"\\nBraket notation:\")\n",
    "display(psi.draw('latex'))\n",
    "print(\"\\nVector notation:\")\n",
    "display(array_to_latex(psi))"
   ]
  },
  {
   "cell_type": "markdown",
   "id": "24d74ce1",
   "metadata": {},
   "source": [
    "Create circuit (no measurements):"
   ]
  },
  {
   "cell_type": "code",
   "execution_count": 3,
   "id": "01eaef7c",
   "metadata": {},
   "outputs": [
    {
     "name": "stdout",
     "output_type": "stream",
     "text": [
      "\n",
      "Visualize circuit:\n"
     ]
    },
    {
     "data": {
      "image/png": "[encoded data removed]",
      "text/plain": [
       "<PIL.Image.Image image mode=RGB size=219x59>"
      ]
     },
     "metadata": {},
     "output_type": "display_data"
    }
   ],
   "source": [
    "# measurement circuit\n",
    "circ = QuantumCircuit(nq) # quantum circuit on nq qubits\n",
    "circ.h(0) # Hadamard gate on qubit 0\n",
    "circ.h(1) # Hadamard gate on qubit 1\n",
    "circ.cp(np.pi/2,0,1) # phase gate (angle pi/2) on qubit 1, controlled on qubit 0\n",
    "print(\"\\nVisualize circuit:\")\n",
    "display(circ.draw('latex'))"
   ]
  },
  {
   "cell_type": "code",
   "execution_count": 4,
   "id": "3b6df55d",
   "metadata": {},
   "outputs": [
    {
     "name": "stdout",
     "output_type": "stream",
     "text": [
      "\n",
      "(Unitary) matrix representation:\n"
     ]
    },
    {
     "data": {
      "text/latex": [
       "$$\n",
       "\n",
       "\\begin{bmatrix}\n",
       "\\frac{1}{2} & \\frac{1}{2} & \\frac{1}{2} & \\frac{1}{2}  \\\\\n",
       " \\frac{1}{2} & - \\frac{1}{2} & \\frac{1}{2} & - \\frac{1}{2}  \\\\\n",
       " \\frac{1}{2} & \\frac{1}{2} & - \\frac{1}{2} & - \\frac{1}{2}  \\\\\n",
       " \\frac{i}{2} & - \\frac{i}{2} & - \\frac{i}{2} & \\frac{i}{2}  \\\\\n",
       " \\end{bmatrix}\n",
       "$$"
      ],
      "text/plain": [
       "<IPython.core.display.Latex object>"
      ]
     },
     "execution_count": 4,
     "metadata": {},
     "output_type": "execute_result"
    }
   ],
   "source": [
    "U = Operator(circ) # turn quantum circuit into matrix\n",
    "print(\"\\n(Unitary) matrix representation:\")\n",
    "array_to_latex(U)"
   ]
  },
  {
   "cell_type": "code",
   "execution_count": 5,
   "id": "db2d439d",
   "metadata": {},
   "outputs": [
    {
     "name": "stdout",
     "output_type": "stream",
     "text": [
      "\n",
      " output:\n"
     ]
    },
    {
     "data": {
      "text/latex": [
       "$$\\frac{1}{2} |00\\rangle- \\frac{1}{2} |01\\rangle+\\frac{1}{2} |10\\rangle- \\frac{i}{2} |11\\rangle$$"
      ],
      "text/plain": [
       "<IPython.core.display.Latex object>"
      ]
     },
     "execution_count": 5,
     "metadata": {},
     "output_type": "execute_result"
    }
   ],
   "source": [
    "state = psi.evolve(circ) # apply quantum circuit \"circ\" to state \"psi\"\n",
    "print(\"\\n output:\")\n",
    "state.draw('latex')"
   ]
  },
  {
   "cell_type": "markdown",
   "id": "7855fdfb",
   "metadata": {},
   "source": [
    "## Simulate circuit\n",
    "Prepend initialization:"
   ]
  },
  {
   "cell_type": "code",
   "execution_count": 6,
   "id": "caf2c6cd",
   "metadata": {
    "scrolled": true
   },
   "outputs": [
    {
     "name": "stdout",
     "output_type": "stream",
     "text": [
      "\n",
      "Visualize circuit with measurements and initialization:\n"
     ]
    },
    {
     "data": {
      "image/png": "[encoded data removed]",
      "text/plain": [
       "<PIL.Image.Image image mode=RGB size=377x61>"
      ]
     },
     "metadata": {},
     "output_type": "display_data"
    }
   ],
   "source": [
    "init = QuantumCircuit(nq)\n",
    "init.initialize(psi) # hardcode initial state \"psi\" into circuit \"init\"\n",
    "circ2 = circ.compose(init, range(nq), front=True) # compose the circuits \"init\" and \"circ\"\n",
    "print(\"\\nVisualize circuit with measurements and initialization:\")\n",
    "display(circ2.draw('latex'))"
   ]
  },
  {
   "cell_type": "markdown",
   "id": "49a084fe",
   "metadata": {},
   "source": [
    "Add measurements:"
   ]
  },
  {
   "cell_type": "code",
   "execution_count": 7,
   "id": "7db9c817",
   "metadata": {},
   "outputs": [
    {
     "name": "stdout",
     "output_type": "stream",
     "text": [
      "\n",
      "Visualize circuit with measurements:\n"
     ]
    },
    {
     "data": {
      "image/png": "[encoded data removed]",
      "text/plain": [
       "<PIL.Image.Image image mode=RGB size=514x105>"
      ]
     },
     "execution_count": 7,
     "metadata": {},
     "output_type": "execute_result"
    }
   ],
   "source": [
    "meas = QuantumCircuit(nq, nq) # measurement circuit on nq qubits and nq \"readout\" classical bits\n",
    "meas.barrier(range(nq)) # visual dashed line\n",
    "meas.measure(range(nq), range(nq)) # measure qubits 0 and 1, write output in classical bits 0 and 1 (resp.)\n",
    "circ3 = circ2.compose(meas, range(nq)) # compose with previous circuit\n",
    "\n",
    "print(\"\\nVisualize circuit with measurements:\")\n",
    "circ3.draw('latex')"
   ]
  },
  {
   "cell_type": "markdown",
   "id": "a05800ad",
   "metadata": {},
   "source": [
    "Compile and run the circuit:"
   ]
  },
  {
   "cell_type": "code",
   "execution_count": 8,
   "id": "a5cd5961",
   "metadata": {},
   "outputs": [
    {
     "name": "stdout",
     "output_type": "stream",
     "text": [
      "\n",
      "Measurement counts (out of 2000): {'11': 520, '10': 482, '00': 525, '01': 473}\n"
     ]
    },
    {
     "data": {
      "image/png": "[encoded data removed]",
      "text/plain": [
       "<Figure size 700x500 with 1 Axes>"
      ]
     },
     "execution_count": 8,
     "metadata": {},
     "output_type": "execute_result"
    }
   ],
   "source": [
    "# transpile for simulator\n",
    "simulator = Aer.get_backend('aer_simulator') # aer_simulator is a classical simulator for quantum circuits\n",
    "circ3 = transpile(circ3, simulator) # transpile circuit in simulator language\n",
    "\n",
    "# simulate circuit and get data\n",
    "result = simulator.run(circ3, shots=2000).result()\n",
    "counts = result.get_counts()\n",
    "print(\"\\nMeasurement counts (out of 2000):\",counts)\n",
    "plot_histogram(counts)"
   ]
  },
  {
   "cell_type": "markdown",
   "id": "686d2b98",
   "metadata": {},
   "source": [
    "## Exercises on circuits\n",
    "\n",
    " - verify the outcome of the following circuits:\n",
    "<div>\n",
    "<img src=\"https://simonapers.github.io/mckinsey/qiskit%20figures/ex1.png\" width=\"300\">\n",
    "<img src=\"https://simonapers.github.io/mckinsey/qiskit%20figures/ex2.png\" width=\"400\"/>\n",
    "<img src=\"https://simonapers.github.io/mckinsey/qiskit%20figures/ex3.png\" width=\"400\"/>\n",
    "<img src=\"https://simonapers.github.io/mckinsey/qiskit%20figures/ex4.png\" width=\"500\"/>\n",
    "</div>"
   ]
  },
  {
   "cell_type": "code",
   "execution_count": null,
   "id": "57367dfa",
   "metadata": {},
   "outputs": [],
   "source": []
  },
  {
   "cell_type": "markdown",
   "id": "118fc697",
   "metadata": {},
   "source": [
    " - verify your solution: \\\n",
    " *(! note that qiskit uses reverse order on qubits, see  https://qiskit.org/documentation/tutorials/circuits/1_getting_started_with_qiskit.html#Visualize-Circuit)*\n",
    " \n",
    "<div>\n",
    "<img src=\"https://simonapers.github.io/mckinsey/qiskit%20figures/CNOT.png\" width=\"500\"/>\n",
    "</div>"
   ]
  },
  {
   "cell_type": "code",
   "execution_count": null,
   "id": "c06ffedd",
   "metadata": {},
   "outputs": [],
   "source": []
  },
  {
   "cell_type": "markdown",
   "id": "0a974826",
   "metadata": {},
   "source": [
    " - verify the outcome state of the following circuits:\n",
    " \n",
    "<div>\n",
    "<img src=\"https://simonapers.github.io/mckinsey/qiskit%20figures/ex5.png\" width=\"200\"/>\n",
    "<img src=\"https://simonapers.github.io/mckinsey/qiskit%20figures/ex6.png\" width=\"300\"/>\n",
    "</div>"
   ]
  },
  {
   "cell_type": "code",
   "execution_count": null,
   "id": "69b608c0",
   "metadata": {},
   "outputs": [],
   "source": []
  },
  {
   "cell_type": "markdown",
   "id": "6284bebb",
   "metadata": {},
   "source": [
    "## QFT exercise\n",
    "verify circuit for 2-qubit quantum Fourier transform:\n",
    "<div>\n",
    "<img src=\"https://simonapers.github.io/mckinsey/qiskit%20figures/F4.png\" width=\"400\">\n",
    "</div>"
   ]
  },
  {
   "cell_type": "code",
   "execution_count": 23,
   "id": "2a5861df",
   "metadata": {},
   "outputs": [
    {
     "data": {
      "image/png": "[encoded data removed]",
      "text/plain": [
       "<Figure size 454.517x200.667 with 1 Axes>"
      ]
     },
     "metadata": {},
     "output_type": "display_data"
    },
    {
     "name": "stdout",
     "output_type": "stream",
     "text": [
      "\n",
      "(Unitary) matrix representation:\n"
     ]
    },
    {
     "data": {
      "text/latex": [
       "$$\n",
       "\n",
       "\\begin{bmatrix}\n",
       "\\frac{1}{2} & \\frac{1}{2} & \\frac{1}{2} & \\frac{1}{2}  \\\\\n",
       " \\frac{1}{2} & - \\frac{1}{2} & \\frac{i}{2} & - \\frac{i}{2}  \\\\\n",
       " \\frac{1}{2} & \\frac{1}{2} & - \\frac{1}{2} & - \\frac{1}{2}  \\\\\n",
       " \\frac{1}{2} & - \\frac{1}{2} & - \\frac{i}{2} & \\frac{i}{2}  \\\\\n",
       " \\end{bmatrix}\n",
       "$$"
      ],
      "text/plain": [
       "<IPython.core.display.Latex object>"
      ]
     },
     "metadata": {},
     "output_type": "display_data"
    },
    {
     "name": "stdout",
     "output_type": "stream",
     "text": [
      "Operator([[ 5.000000e-01+0.j ,  5.000000e-01+0.j ,  5.000000e-01+0.j ,\n",
      "            5.000000e-01+0.j ],\n",
      "          [ 5.000000e-01+0.j , -5.000000e-01+0.j ,  3.061617e-17+0.5j,\n",
      "           -3.061617e-17-0.5j],\n",
      "          [ 5.000000e-01+0.j ,  5.000000e-01+0.j , -5.000000e-01+0.j ,\n",
      "           -5.000000e-01+0.j ],\n",
      "          [ 5.000000e-01+0.j , -5.000000e-01+0.j , -3.061617e-17-0.5j,\n",
      "            3.061617e-17+0.5j]],\n",
      "         input_dims=(2, 2), output_dims=(2, 2))\n"
     ]
    }
   ],
   "source": [
    "QFT = QuantumCircuit(2)\n",
    "QFT.h(0) # hadamard on q1\n",
    "QFT.cp(np.pi/2,0,1) # pi/2-rotation of q2 controlled on q1\n",
    "QFT.h(1) # hadamard on q1\n",
    "# QFT.swap(0,1) # swap on q1 and q2\n",
    "\n",
    "display(QFT.draw(output='mpl'))\n",
    "U = Operator(QFT)\n",
    "print(\"\\n(Unitary) matrix representation:\")\n",
    "display(array_to_latex(U))\n",
    "print(U)"
   ]
  },
  {
   "cell_type": "markdown",
   "id": "de759835",
   "metadata": {},
   "source": [
    "# Hamiltonian simulation\n",
    "\n",
    "Qiskit has functionality for Hamiltonian simulation:"
   ]
  },
  {
   "cell_type": "code",
   "execution_count": 10,
   "id": "b4fef70f",
   "metadata": {},
   "outputs": [
    {
     "data": {
      "image/png": "[encoded data removed]",
      "text/plain": [
       "<PIL.Image.Image image mode=RGB size=219x28>"
      ]
     },
     "execution_count": 10,
     "metadata": {},
     "output_type": "execute_result"
    }
   ],
   "source": [
    "HamSim = QuantumCircuit(1)\n",
    "expH = HamiltonianGate([[0,1],[1,0]],1) # HamiltonianGate(matrix H,time t) implements exp(-iHt)\n",
    "HamSim = HamSim.compose(expH, [0])\n",
    "HamSim.draw('latex')"
   ]
  },
  {
   "cell_type": "markdown",
   "id": "9e2989b5",
   "metadata": {},
   "source": [
    "## Exercises Hamiltonian simulation\n",
    " - verify the following equations:\n",
    "<div>\n",
    "<img src=\"https://simonapers.github.io/mckinsey/qiskit%20figures/XHZH.png\" width=\"500\"/>\n",
    "<img src=\"https://simonapers.github.io/mckinsey/qiskit%20figures/expZ.png\" width=\"500\"/>\n",
    "<img src=\"https://simonapers.github.io/mckinsey/qiskit%20figures/expX.png\" width=\"500\"/>\n",
    "</div>"
   ]
  },
  {
   "cell_type": "code",
   "execution_count": null,
   "id": "65e37351",
   "metadata": {},
   "outputs": [],
   "source": []
  },
  {
   "cell_type": "markdown",
   "id": "ab5201e7",
   "metadata": {},
   "source": [
    " - verify noncommutativity: (e.g. for $H = H_1 + H_2 = X + Z$)\n",
    "<div>\n",
    "<img src=\"https://simonapers.github.io/mckinsey/qiskit%20figures/noncom.png\" width=\"400\">\n",
    "</div>"
   ]
  },
  {
   "cell_type": "code",
   "execution_count": null,
   "id": "bd2a1bd5",
   "metadata": {},
   "outputs": [],
   "source": []
  },
  {
   "cell_type": "markdown",
   "id": "4f7f141a",
   "metadata": {},
   "source": [
    " - verify Lie-Trotter formula:\n",
    "<div>\n",
    "<img src=\"https://simonapers.github.io/mckinsey/qiskit%20figures/Trotter.png\" width=\"600\">\n",
    "</div>"
   ]
  },
  {
   "cell_type": "code",
   "execution_count": null,
   "id": "1c29419a",
   "metadata": {},
   "outputs": [],
   "source": []
  },
  {
   "cell_type": "markdown",
   "id": "b0435350",
   "metadata": {},
   "source": [
    "# QAOA\n",
    "\n",
    "## Ising Hamiltonian\n",
    "Consider a graph $G=(V,E)$ and corresponding Ising Hamiltonian $H_Z = \\sum_{i<j:(i,j) \\in E} Z_i Z_j$. Show that the ground state of $H_Z$ describes a maximum cut in $G$."
   ]
  },
  {
   "cell_type": "markdown",
   "id": "9d782d4d",
   "metadata": {},
   "source": [
    "Now consider the particular graph $G$ with adjacency matrix\n",
    "$$\n",
    "\\begin{bmatrix}\n",
    "0 & 1 & 1 & 1 \\\\\n",
    "1 & 0 & 1 & 1 \\\\\n",
    "1 & 1 & 0 & 0 \\\\\n",
    "1 & 1 & 0 & 0\n",
    "\\end{bmatrix}.\n",
    "$$\n",
    "Encode the corresponding Ising Hamiltonian."
   ]
  },
  {
   "cell_type": "code",
   "execution_count": 13,
   "id": "14aa124a",
   "metadata": {
    "scrolled": true
   },
   "outputs": [
    {
     "data": {
      "text/latex": [
       "$$\n",
       "\n",
       "\\begin{bmatrix}\n",
       "5 & 0 & 0 & 0 & \\cdots & 0 & 0 & 0  \\\\\n",
       " 0 & -1 & 0 & 0 & \\cdots & 0 & 0 & 0  \\\\\n",
       " 0 & 0 & -1 & 0 & \\cdots & 0 & 0 & 0  \\\\\n",
       " 0 & 0 & 0 & -3 & \\cdots & 0 & 0 & 0  \\\\\n",
       " \\vdots & \\vdots & \\vdots & \\vdots & \\ddots & \\vdots & \\vdots & \\vdots \\\\\n",
       " 0 & 0 & 0 & 0 & \\cdots & -1 & 0 & 0  \\\\\n",
       " 0 & 0 & 0 & 0 & \\cdots & 0 & -1 & 0  \\\\\n",
       " 0 & 0 & 0 & 0 & \\cdots & 0 & 0 & 5  \\\\\n",
       " \\end{bmatrix}\n",
       "$$"
      ],
      "text/plain": [
       "<IPython.core.display.Latex object>"
      ]
     },
     "metadata": {},
     "output_type": "display_data"
    }
   ],
   "source": [
    "from qiskit.quantum_info import Pauli\n",
    "\n",
    "# define Z_i Z_j's\n",
    "E12 = Pauli('IIZZ').to_matrix() # edge (1,2) <-> operator Z_1 Z_2 (recall inverse ordering)\n",
    "E13 = Pauli('IZIZ').to_matrix()\n",
    "E14 = Pauli('ZIIZ').to_matrix()\n",
    "E23 = Pauli('IZZI').to_matrix()\n",
    "E24 = Pauli('ZIZI').to_matrix()\n",
    "\n",
    "# create cost Hamiltonian\n",
    "Hz = E12 + E13 + E14 + E23 + E24\n",
    "display(array_to_latex(Hz))"
   ]
  },
  {
   "cell_type": "markdown",
   "id": "ba90855d",
   "metadata": {},
   "source": [
    "## Variational circuit\n",
    "\n",
    "create parameterized Hamiltonian gate $e^{-i \\theta H_Z}$ called circHz:"
   ]
  },
  {
   "cell_type": "code",
   "execution_count": 14,
   "id": "18001ba1",
   "metadata": {},
   "outputs": [],
   "source": [
    "from qiskit.circuit import Parameter\n",
    "\n",
    "theta = Parameter('theta')\n",
    "expHz = HamiltonianGate(Hz,theta)\n",
    "circHz = QuantumCircuit(4, name='Hz')\n",
    "circHz = circHz.compose(expHz)"
   ]
  },
  {
   "cell_type": "markdown",
   "id": "cae16072",
   "metadata": {},
   "source": [
    "create mixer Hamiltonian $H_X = \\sum_i X_i$ and parameterized Hamiltonian gate $e^{-i \\phi H_X}$ called circHx:"
   ]
  },
  {
   "cell_type": "code",
   "execution_count": 17,
   "id": "f7f06186",
   "metadata": {},
   "outputs": [],
   "source": [
    "X1 = Pauli('IIIX').to_matrix()\n",
    "X2 = Pauli('IIXI').to_matrix()\n",
    "X3 = Pauli('IXII').to_matrix()\n",
    "X4 = Pauli('XIII').to_matrix()\n",
    "Hx = X1 + X2 + X3 + X4\n",
    "\n",
    "phi = Parameter('phi')\n",
    "expHx = HamiltonianGate(Hx,phi)\n",
    "circHx = QuantumCircuit(4, name='Hx')\n",
    "circHx = circHx.compose(expHx)"
   ]
  },
  {
   "cell_type": "markdown",
   "id": "b2883cd4",
   "metadata": {},
   "source": [
    "compose layers:"
   ]
  },
  {
   "cell_type": "code",
   "execution_count": 18,
   "id": "2142cbcf",
   "metadata": {},
   "outputs": [
    {
     "data": {
      "image/png": "[encoded data removed]",
      "text/plain": [
       "<PIL.Image.Image image mode=RGB size=510x145>"
      ]
     },
     "metadata": {},
     "output_type": "display_data"
    }
   ],
   "source": [
    "t1 = Parameter('t1')\n",
    "t2 = Parameter('t2')\n",
    "p1 = Parameter('p1')\n",
    "p2 = Parameter('p2')\n",
    "\n",
    "QAOA = QuantumCircuit(4)\n",
    "QAOA = QAOA.compose(circHx.to_instruction({phi: p1}))\n",
    "QAOA = QAOA.compose(circHz.to_instruction({theta: t1}))\n",
    "QAOA = QAOA.compose(circHx.to_instruction({phi: p2}))\n",
    "QAOA = QAOA.compose(circHz.to_instruction({theta: t2}))\n",
    "display(QAOA.draw('latex'))"
   ]
  },
  {
   "cell_type": "markdown",
   "id": "21deaea8",
   "metadata": {},
   "source": [
    "add measurement to QAOA circuit:"
   ]
  },
  {
   "cell_type": "code",
   "execution_count": 19,
   "id": "95487344",
   "metadata": {},
   "outputs": [
    {
     "data": {
      "image/png": "[encoded data removed]",
      "text/plain": [
       "<PIL.Image.Image image mode=RGB size=763x237>"
      ]
     },
     "metadata": {},
     "output_type": "display_data"
    }
   ],
   "source": [
    "meas = QuantumCircuit(4, 4)\n",
    "meas.barrier(range(4))\n",
    "meas.measure(range(4), range(4))\n",
    "QAOA = QAOA.compose(meas)\n",
    "display(QAOA.draw('latex'))"
   ]
  },
  {
   "cell_type": "markdown",
   "id": "80bcc7f6",
   "metadata": {},
   "source": [
    "simulate using Aer simulator:"
   ]
  },
  {
   "cell_type": "code",
   "execution_count": 20,
   "id": "b5ae655e",
   "metadata": {},
   "outputs": [
    {
     "name": "stdout",
     "output_type": "stream",
     "text": [
      "\n",
      "Measurement counts (out of 10000): {'0111': 620, '0010': 1503, '0001': 1506, '0100': 888, '1100': 1364, '0000': 148, '1000': 929, '1111': 1568, '0011': 316, '1011': 632, '0101': 134, '1001': 135, '1010': 129, '0110': 111, '1110': 8, '1101': 9}\n"
     ]
    },
    {
     "data": {
      "image/png": "[encoded data removed]",
      "text/plain": [
       "<Figure size 700x500 with 1 Axes>"
      ]
     },
     "execution_count": 20,
     "metadata": {},
     "output_type": "execute_result"
    }
   ],
   "source": [
    "# fix parameters\n",
    "circ = QAOA.bind_parameters(\n",
    "        {t1: 1/5*np.pi, t2: 0, p1: 1/4*np.pi, p2: 0.6*np.pi})\n",
    "\n",
    "# transpile, run and plot statistics\n",
    "simulator = Aer.get_backend('aer_simulator')\n",
    "circ = transpile(circ, simulator)\n",
    "result = simulator.run(circ, shots=10000).result()\n",
    "counts = result.get_counts()\n",
    "print(\"\\nMeasurement counts (out of 10000):\",counts)\n",
    "plot_histogram(counts)"
   ]
  },
  {
   "cell_type": "markdown",
   "id": "028fc69f",
   "metadata": {},
   "source": [
    "## Extra:\n",
    " - QAOA on larger depth, more vertices\n",
    " - combine with optimizer (for an example, see notebook by Ruslan Shaydulin: https://simonapers.github.io/mckinsey/QAOA-shaydulin.ipynb)"
   ]
  },
  {
   "cell_type": "code",
   "execution_count": null,
   "id": "86964d6a",
   "metadata": {},
   "outputs": [],
   "source": []
  }
 ],
 "metadata": {
  "kernelspec": {
   "display_name": "Python 3 (ipykernel)",
   "language": "python",
   "name": "python3"
  },
  "language_info": {
   "codemirror_mode": {
    "name": "ipython",
    "version": 3
   },
   "file_extension": ".py",
   "mimetype": "text/x-python",
   "name": "python",
   "nbconvert_exporter": "python",
   "pygments_lexer": "ipython3",
   "version": "3.10.11"
  }
 },
 "nbformat": 4,
 "nbformat_minor": 5
}
